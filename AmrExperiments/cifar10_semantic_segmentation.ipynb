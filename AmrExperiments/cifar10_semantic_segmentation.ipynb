{
 "cells": [
  {
   "cell_type": "markdown",
   "metadata": {
    "id": "PC-oaQN-EWVI"
   },
   "source": [
    "# Segmentation using ResNet18"
   ]
  },
  {
   "cell_type": "code",
   "execution_count": null,
   "metadata": {
    "id": "Ux7CKezJ003A"
   },
   "outputs": [],
   "source": [
    "import torch\n",
    "from torch import nn\n",
    "import torch.nn.functional as F\n",
    "from torch.utils.data import DataLoader\n",
    "from torchvision import transforms\n",
    "from torchvision.models import resnet18\n",
    "from torchvision.datasets import CIFAR10\n",
    "from tqdm import tqdm_notebook as tqdm\n",
    "from torchvision.utils import save_image, make_grid\n",
    "from matplotlib import pyplot as plt\n",
    "from matplotlib.colors import hsv_to_rgb\n",
    "from matplotlib.image import BboxImage\n",
    "from matplotlib.transforms import Bbox, TransformedBbox\n",
    "import numpy as np\n",
    "from IPython import display\n",
    "import requests\n",
    "from io import BytesIO\n",
    "from PIL import Image\n",
    "from PIL import Image, ImageSequence\n",
    "from IPython.display import HTML\n",
    "import warnings\n",
    "from matplotlib import rc\n",
    "import gc\n",
    "import matplotlib\n",
    "import os\n",
    "matplotlib.rcParams['pdf.fonttype'] = 42\n",
    "matplotlib.rcParams['ps.fonttype'] = 42\n",
    "gc.enable()\n",
    "plt.ioff()"
   ]
  },
  {
   "cell_type": "code",
   "execution_count": null,
   "metadata": {
    "colab": {
     "base_uri": "https://localhost:8080/",
     "height": 104,
     "referenced_widgets": [
      "7601002d24a14ca6bbc7a22fc8b5abe9",
      "71cba0af34f145ed8b757da95ddc6902",
      "6a50ed1a199744e48796808787ac812a",
      "29c5466e2284453181d86451fedf55ae",
      "2bcbaff7e2284dc58e810537c8ecb21d",
      "b1a04069864c42279e2d10e5117a8e55",
      "f988422736c849beabfc268590bba128",
      "ba8e90abfebe418ebce6b576bc1ed5c6"
     ]
    },
    "id": "WpmPvnAz1imj",
    "outputId": "9548a554-1b8c-4b45-d6c5-1082ad9d2167"
   },
   "outputs": [],
   "source": [
    "num_classes = 10\n",
    "resnet = resnet18(pretrained=True)\n",
    "resnet.conv1 = nn.Conv2d(3,64,3,stride=1,padding=1)\n",
    "resnet_ = list(resnet.children())[:-2]\n",
    "resnet_[3] = nn.Upsample(scale_factor=2, mode='bilinear', align_corners=False)\n",
    "classifier = nn.Conv2d(512,num_classes,1)\n",
    "torch.nn.init.kaiming_normal_(classifier.weight)\n",
    "resnet_.append(classifier)\n",
    "resnet_.append(nn.Upsample(size=32, mode='bilinear', align_corners=False))\n",
    "tiny_resnet = nn.Sequential(*resnet_)"
   ]
  },
  {
   "cell_type": "code",
   "execution_count": null,
   "metadata": {
    "id": "MNMehcbA1tKQ"
   },
   "outputs": [],
   "source": [
    "def attention(x):\n",
    "    return torch.sigmoid(torch.logsumexp(x,1, keepdim=True))"
   ]
  },
  {
   "cell_type": "code",
   "execution_count": null,
   "metadata": {
    "colab": {
     "base_uri": "https://localhost:8080/",
     "height": 101,
     "referenced_widgets": [
      "df1d5e83bd454a53b57a1601b43e9610",
      "9d3895b47ed14261b40ea004ba13c7bd",
      "aa34371a82ec4afda7ca54298ecf34e8",
      "3b8efb06109a427d821c9a8d289b495b",
      "92f09b978cd943c6a1221b6aed70e336",
      "ee3b08a1b07041568316b7c823884e05",
      "4d81407f4a534f3ea653a1880e4ce70c",
      "02fd92083775466bad778b1c388ad14c"
     ]
    },
    "id": "likvxuVD1wQv",
    "outputId": "257607d2-d7e4-4eec-d488-439148d95cdf"
   },
   "outputs": [],
   "source": [
    "transform_train = transforms.Compose([\n",
    "    transforms.RandomCrop(32, padding=4),\n",
    "    transforms.RandomHorizontalFlip(),\n",
    "    transforms.ToTensor(),\n",
    "    transforms.Normalize((0.4914, 0.4822, 0.4465), (0.2023, 0.1994, 0.2010)),\n",
    "])\n",
    "\n",
    "transform_test = transforms.Compose([\n",
    "    transforms.ToTensor(),\n",
    "    transforms.Normalize((0.4914, 0.4822, 0.4465), (0.2023, 0.1994, 0.2010)),\n",
    "])\n",
    "\n",
    "trainset = CIFAR10(root='.', train=True, download=True, transform=transform_train)\n",
    "train_iter = DataLoader(trainset, batch_size=128, shuffle=True, num_workers=16, pin_memory=True, drop_last=True)\n",
    "\n",
    "testset = CIFAR10(root='.', train=False, download=True, transform=transform_test)\n",
    "test_iter = DataLoader(testset, batch_size=100, shuffle=False, num_workers=16, pin_memory=True)\n",
    "\n",
    "classes = ('plane', 'car', 'bird', 'cat', 'deer', 'dog', 'frog', 'horse', 'ship', 'truck')"
   ]
  },
  {
   "cell_type": "code",
   "execution_count": null,
   "metadata": {
    "id": "XjXvjPTY2NZp"
   },
   "outputs": [],
   "source": [
    "mpath = \"/content/drive/MyDrive/segmentCutMix/segment.pth\"\n",
    "\n",
    "model = nn.DataParallel(tiny_resnet).cuda()\n",
    "criterion = nn.BCEWithLogitsLoss()\n",
    "optimizer = torch.optim.SGD(model.parameters(), lr = 0.05, momentum=0.9, weight_decay=1e-4)\n",
    "lr_scheduler = torch.optim.lr_scheduler.CosineAnnealingLR(optimizer,78,eta_min=0.001)"
   ]
  },
  {
   "cell_type": "code",
   "execution_count": null,
   "metadata": {
    "id": "OMmkArlOeT6P"
   },
   "outputs": [],
   "source": [
    "num_epochs = 33\n",
    "\n",
    "assert(os.path.isfile(mpath))\n",
    "if(os.path.isfile(mpath)): \n",
    "  saved_state = torch.load(mpath)\n",
    "  s_epoch = int(saved_state['epoch'])\n",
    "  model.load_state_dict(saved_state['state'])\n",
    "  optimizer.load_state_dict(saved_state['optim'])\n",
    "  \n",
    "else: \n",
    "  s_epoch = 0"
   ]
  },
  {
   "cell_type": "code",
   "execution_count": null,
   "metadata": {
    "colab": {
     "base_uri": "https://localhost:8080/"
    },
    "id": "ODeqLQ9Y9pTV",
    "outputId": "a01049d4-ab0f-4096-8f72-f2ad0a2b270a"
   },
   "outputs": [],
   "source": [
    "s_epoch"
   ]
  },
  {
   "cell_type": "code",
   "execution_count": null,
   "metadata": {
    "colab": {
     "base_uri": "https://localhost:8080/",
     "height": 982,
     "referenced_widgets": [
      "ea6e0ba77212430f93d103b2222449e0",
      "1ac94700ad6342fea1695465ffae6226",
      "fc9275a1f18a4b25ba487b13fc724698",
      "a3eff1cc441f443ebc33cfef981f57a7",
      "213e0896b33a475e94a48537a08042f2",
      "06ef1a2a44e54c93964ee1ef0dcd9c90",
      "5e1e87627f704c6c9ae83dd8c88654e5",
      "d564220332e94716ab03dd4fbdace767",
      "da8b3f463c04483a9846710851963786",
      "e8f97438ba624967b709ad6b172d12e5",
      "3f39acd798444cbfa1997d16f9a811d9",
      "8dc1c4435a434288a30d3da3ff85a5ae",
      "ca6c4d6dff924e51b3965012f1c22dce",
      "e88b609ab2624c069fd207abfb60b35c",
      "cbbaf90aad0445a5bbb46b23613f4094",
      "aa8d74fa92b04d85925f39676fa340ba",
      "0fd297bff02e44019a98aa150df4e41a",
      "31cf37946f5d492883cbdbe4fb002b83",
      "81f8e566afc64ec3aabcdb34614b65a2",
      "f8365e7f4af04a7e96558db000e3f805",
      "1798a9fa8aac4878a61bcdd1669c302b",
      "1270a7be010d44118d35ae9629d7721b",
      "cfee127ccee9400ea1efdc1c79734ce1",
      "b2cb4b7570274152953976320b2b6e61",
      "5a409e4047d74577a15b055bba64ff6d",
      "4aca928e848d4ae9875bccaf42fa5301",
      "b37ec40afd534671aa80c159de6d1aa9",
      "f1c20fd67b4b4065925c56443010c6ac",
      "4866ed394f6d40b79e2f276d78dd388b",
      "e32cc999b2654197a5e7e1771f48d8a9",
      "6d2c1c7fedb349b1a52e7b7eff52f04d",
      "dccaecb14e204485adb001c01bbeb34e"
     ]
    },
    "id": "7xf5Wx-C11j5",
    "outputId": "f74c1318-3893-44d2-c7c3-d872597bce50"
   },
   "outputs": [],
   "source": [
    "losses = []\n",
    "acces = []\n",
    "v_losses = []\n",
    "v_acces = []\n",
    "for epoch in tqdm(range(s_epoch+1, num_epochs)):\n",
    "    epoch_loss = 0.0\n",
    "    acc = 0.0\n",
    "    var = 0.0\n",
    "    model.train()\n",
    "    train_pbar = train_iter\n",
    "    for i, (x, _label) in enumerate(train_pbar):\n",
    "        x = x.cuda()\n",
    "        _label = _label.cuda()\n",
    "        label = F.one_hot(_label).float()\n",
    "        seg_out = model(x)\n",
    "        \n",
    "        attn = attention(seg_out)\n",
    "        # Smooth Max Aggregation\n",
    "        logit = torch.log(torch.exp(seg_out*0.5).mean((-2,-1)))*2\n",
    "        loss = criterion(logit, label)\n",
    "        optimizer.zero_grad()\n",
    "        loss.backward()\n",
    "        optimizer.step()\n",
    "        lr_scheduler.step()\n",
    "        epoch_loss += loss.item()\n",
    "        acc += (logit.argmax(-1)==_label).sum()\n",
    "        #train_pbar.set_description('Accuracy: {:.3f}%'.format(100*(logit.argmax(-1)==_label).float().mean()))\n",
    "        \n",
    "    avg_loss = epoch_loss / (i + 1)\n",
    "    losses.append(avg_loss)\n",
    "    avg_acc = acc.cpu().detach().numpy() / (len(trainset))\n",
    "    acces.append(avg_acc)\n",
    "    model.eval()\n",
    "    epoch_loss = 0.0\n",
    "    acc = 0.0\n",
    "    num_seen = 0\n",
    "\n",
    "    state = {\n",
    "        \"state\": model.state_dict(),\n",
    "        \"epoch\": epoch, \n",
    "        \"optim\": optimizer.state_dict()\n",
    "    }\n",
    "    torch.save(state, \"/content/drive/MyDrive/segmentCutMix/segment.pth\")\n",
    "    \n",
    "    test_pbar = tqdm(test_iter)\n",
    "    for i, (x, _label) in enumerate(test_pbar):\n",
    "        x = x.cuda()\n",
    "        _label = _label.cuda()\n",
    "        label = F.one_hot(_label).float()\n",
    "        seg_out = model(x)\n",
    "        attn = attention(seg_out)\n",
    "        logit = torch.log(torch.exp(seg_out*0.5).mean((-2,-1)))*2\n",
    "        loss = criterion(logit, label)\n",
    "        epoch_loss += loss.item()\n",
    "        acc += (logit.argmax(-1)==_label).sum()\n",
    "        num_seen += label.size(0)\n",
    "        test_pbar.set_description('Accuracy: {:.3f}%'.format(100*(acc.float()/num_seen)))\n",
    "    \n",
    "    avg_loss_val = epoch_loss / (i + 1)\n",
    "    v_losses.append(avg_loss_val)\n",
    "    avg_acc_val = acc.cpu().detach().numpy() / (len(testset))\n",
    "    v_acces.append(avg_acc_val)\n",
    "    plt.close('all')\n",
    "\n",
    "    conf = torch.max(nn.functional.softmax(seg_out, dim=1), dim=1)[0]\n",
    "    hue = (torch.argmax(seg_out, dim=1).float() + 0.5)/10\n",
    "    x -= x.min()\n",
    "    x /= x.max()\n",
    "    gs_im = x.mean(1)\n",
    "    gs_mean = gs_im.mean()\n",
    "    gs_min = gs_im.min()\n",
    "    gs_max = torch.max((gs_im-gs_min))\n",
    "    gs_im = (gs_im - gs_min)/gs_max\n",
    "    hsv_im = torch.stack((hue.float(), attn.squeeze().float(), gs_im.float()), -1)\n",
    "    im = hsv_to_rgb(hsv_im.cpu().detach().numpy())\n",
    "    ex = make_grid(torch.tensor(im).permute(0,3,1,2), normalize=True, nrow=25)\n",
    "    attns = make_grid(attn, normalize=False, nrow=25)\n",
    "    attns = attns.cpu().detach()\n",
    "    inputs = make_grid(x, normalize=True, nrow=25).cpu().detach()\n",
    "    display.clear_output(wait=True)\n",
    "    plt.figure(figsize=(20,8))\n",
    "    plt.imshow(np.concatenate((inputs.numpy().transpose(1,2,0),ex.numpy().transpose(1,2,0), attns.numpy().transpose(1,2,0)), axis=0))\n",
    "    #plt.xticks(np.linspace(18,324,10), classes)\n",
    "    #plt.xticks(fontsize=20) \n",
    "    plt.yticks([])\n",
    "    plt.title('CIFAR10 Epoch:{:02d}, Train:{:.3f}, Test:{:.3f}'.format(epoch, avg_acc, avg_acc_val), fontsize=20)\n",
    "    display.display(plt.gcf())\n",
    "    fig, ax = plt.subplots(1,2, figsize=(20,8))\n",
    "    ax[0].set_title('Crossentropy')\n",
    "    ax[0].plot(losses, label='Train')\n",
    "    ax[0].plot(v_losses, label='CIFAR10 Test')\n",
    "    ax[0].legend()\n",
    "    ax[1].set_title('Accuracy')\n",
    "    ax[1].plot(acces, label='Train')\n",
    "    ax[1].plot(v_acces, label='CIFAR10 Test')\n",
    "    ax[1].legend()\n",
    "    display.display(plt.gcf())"
   ]
  },
  {
   "cell_type": "code",
   "execution_count": null,
   "metadata": {
    "colab": {
     "base_uri": "https://localhost:8080/"
    },
    "id": "rExuOZm7fF-A",
    "outputId": "a2ffc961-7d5d-4f49-d0c1-60a24e53e835"
   },
   "outputs": [],
   "source": [
    "epoch_loss = 0.0\n",
    "acc = 0.0\n",
    "num_seen = 0\n",
    "\n",
    "for i, (x, _label) in enumerate(test_iter):\n",
    "        x = x.cuda()\n",
    "        _label = _label.cuda()\n",
    "        label = F.one_hot(_label).float()\n",
    "        seg_out = model(x)\n",
    "        attn = attention(seg_out)\n",
    "        logit = torch.log(torch.exp(seg_out*0.5).mean((-2,-1)))*2\n",
    "        loss = criterion(logit, label)\n",
    "        epoch_loss += loss.item()\n",
    "        acc += (logit.argmax(-1)==_label).sum()\n",
    "        num_seen += label.size(0)\n",
    "print(100*(acc.float()/num_seen))"
   ]
  },
  {
   "cell_type": "code",
   "execution_count": null,
   "metadata": {
    "id": "i7R_ONMrY6JW"
   },
   "outputs": [],
   "source": [
    "images, out = next(iter(train_iter))\n",
    "img = images[:2]\n",
    "img = img * 0.2023 + 0.48"
   ]
  },
  {
   "cell_type": "code",
   "execution_count": null,
   "metadata": {
    "id": "FRcIO18OWp_D"
   },
   "outputs": [],
   "source": [
    "preds = model(img)\n",
    "attn = attention(preds)\n",
    "attn = torch.cat((attn, attn, attn), dim=1)\n",
    "attn[attn < 0.3] = 0.0\n",
    "attn[attn >= 0.3] = 1.0"
   ]
  },
  {
   "cell_type": "code",
   "execution_count": null,
   "metadata": {
    "id": "uEmSAlmbh0O8"
   },
   "outputs": [],
   "source": [
    "img2 = img.cuda() * attn"
   ]
  },
  {
   "cell_type": "code",
   "execution_count": null,
   "metadata": {
    "id": "7O_bTS10kHdd"
   },
   "outputs": [],
   "source": [
    "mixed = 0.8 * img[0].cuda() + 0.2* img2[1]"
   ]
  },
  {
   "cell_type": "code",
   "execution_count": null,
   "metadata": {
    "colab": {
     "base_uri": "https://localhost:8080/",
     "height": 321
    },
    "id": "WI8joPd-jUwa",
    "outputId": "b98f2f83-aec1-4861-8fa8-5907d17e43e1"
   },
   "outputs": [],
   "source": [
    "plt.imshow(mixed.detach().cpu().numpy().transpose(1,2,0))"
   ]
  },
  {
   "cell_type": "code",
   "execution_count": null,
   "metadata": {
    "colab": {
     "base_uri": "https://localhost:8080/",
     "height": 283
    },
    "id": "GlURpooBaJ_o",
    "outputId": "4fec0522-eb64-4665-8396-9a7cb1d2d0da"
   },
   "outputs": [],
   "source": [
    "plt.imshow(img2[0].detach().cpu().numpy().transpose(1,2,0))"
   ]
  },
  {
   "cell_type": "code",
   "execution_count": null,
   "metadata": {
    "colab": {
     "base_uri": "https://localhost:8080/",
     "height": 321
    },
    "id": "wtggqWDajZlR",
    "outputId": "f0f671f4-1c44-4664-b2ed-47a347a3e340"
   },
   "outputs": [],
   "source": [
    "plt.imshow(img[1].detach().cpu().numpy().transpose(1,2,0))"
   ]
  },
  {
   "cell_type": "code",
   "execution_count": null,
   "metadata": {
    "colab": {
     "base_uri": "https://localhost:8080/",
     "height": 283
    },
    "id": "X5PLilvMaPxG",
    "outputId": "1b23379d-2a61-4bdc-d89b-e665d7b249f6"
   },
   "outputs": [],
   "source": [
    "plt.imshow(img2[1].detach().cpu().numpy().transpose(1,2,0))"
   ]
  },
  {
   "cell_type": "code",
   "execution_count": null,
   "metadata": {
    "colab": {
     "base_uri": "https://localhost:8080/",
     "height": 283
    },
    "id": "GeqhJgxGafG-",
    "outputId": "311a91e1-e0c2-4b69-df10-0f9646c0d99a"
   },
   "outputs": [],
   "source": [
    "plt.imshow(attn[0].detach().cpu().numpy().transpose(1,2,0).squeeze())"
   ]
  },
  {
   "cell_type": "code",
   "execution_count": null,
   "metadata": {
    "colab": {
     "base_uri": "https://localhost:8080/",
     "height": 283
    },
    "id": "hDlUrDdwafh2",
    "outputId": "aefc2e62-d1ea-4119-ecc7-721cd9f13567"
   },
   "outputs": [],
   "source": [
    "plt.imshow(attn[1].detach().cpu().numpy().transpose(1,2,0).squeeze())"
   ]
  },
  {
   "cell_type": "code",
   "execution_count": null,
   "metadata": {
    "id": "4lkehEy9XuU8"
   },
   "outputs": [],
   "source": [
    "x, y\n",
    "attn (y)\n",
    "\n",
    "attn[attn <0.3] =  1\n",
    "attn[attn >= 0.3] = 0 \n",
    "\n",
    "attn = attn.bool() \n",
    "\n",
    "y[attn] =  0 \n",
    "\n",
    "mixed = lmbda *x + (1-lmbda)*y[attn]  "
   ]
  },
  {
   "cell_type": "code",
   "execution_count": null,
   "metadata": {
    "id": "fhKRjpBSbb6P"
   },
   "outputs": [],
   "source": [
    "for i, (x, _label) in enumerate(train_pbar):\n",
    "        x, label = next(iter(train_pbar))\n",
    "        x = x.cuda()\n",
    "        _label = _label.cuda()\n",
    "        label = F.one_hot(_label).float()\n",
    "        seg_out = model(x)\n",
    "        attns = attention(seg_out)\n",
    "        \n",
    "        attns = attns[attns > 0.3] == 1\n",
    "        attns = attns[attns > 0.3] == 1"
   ]
  },
  {
   "cell_type": "code",
   "execution_count": null,
   "metadata": {
    "id": "B9SRw8XnSgf4"
   },
   "outputs": [],
   "source": [
    "make_grid(attn, normalize=False, nrow=25)"
   ]
  },
  {
   "cell_type": "code",
   "execution_count": null,
   "metadata": {
    "colab": {
     "base_uri": "https://localhost:8080/",
     "height": 283
    },
    "id": "VYLf04WaTVYW",
    "outputId": "75f180c0-269c-448c-dd76-4b922ee10ba8"
   },
   "outputs": [],
   "source": [
    "plt.imshow(x[66].detach().cpu().numpy().transpose(1,2,0)*0.2023 + 0.48)\n",
    "plt.show()"
   ]
  },
  {
   "cell_type": "code",
   "execution_count": null,
   "metadata": {
    "colab": {
     "base_uri": "https://localhost:8080/",
     "height": 183
    },
    "id": "gDhiOQkwbhCn",
    "outputId": "76733383-0c1b-4996-db89-cfe1c75496c2"
   },
   "outputs": [],
   "source": [
    "plt.imshow(attns[66].detach().cpu().numpy().transpose(1,2,0).squeeze())"
   ]
  },
  {
   "cell_type": "code",
   "execution_count": null,
   "metadata": {
    "colab": {
     "base_uri": "https://localhost:8080/"
    },
    "id": "T1E9uwpkUmXu",
    "outputId": "d2faff6d-26e1-4505-e614-485173d40e8b"
   },
   "outputs": [],
   "source": [
    "print(torch.max(attns))"
   ]
  },
  {
   "cell_type": "code",
   "execution_count": null,
   "metadata": {
    "colab": {
     "base_uri": "https://localhost:8080/"
    },
    "id": "ZLFthJkQWjPU",
    "outputId": "fe2ceb26-e4cb-4c49-ea00-618466f6b082"
   },
   "outputs": [],
   "source": [
    "print(torch.min(attns))"
   ]
  },
  {
   "cell_type": "markdown",
   "metadata": {
    "id": "NE1rUlTDEb7A"
   },
   "source": [
    "# Segmentation using ResNet50"
   ]
  },
  {
   "cell_type": "code",
   "execution_count": null,
   "metadata": {
    "colab": {
     "base_uri": "https://localhost:8080/"
    },
    "id": "t21_7exdE1vm",
    "outputId": "be3d72e7-ce95-4b69-ac35-0f9306fa261f"
   },
   "outputs": [],
   "source": [
    "# from google.colab import drive\n",
    "# drive.mount('/content/drive')"
   ]
  },
  {
   "cell_type": "code",
   "execution_count": 1,
   "metadata": {
    "id": "5zzqcGPcEuwM"
   },
   "outputs": [],
   "source": [
    "import torch\n",
    "from torch import nn\n",
    "import torch.nn.functional as F\n",
    "from torch.utils.data import DataLoader\n",
    "from torchvision import transforms\n",
    "from torchvision.models import resnet50\n",
    "from torchvision.datasets import CIFAR10\n",
    "from tqdm import tqdm_notebook as tqdm\n",
    "from torchvision.utils import save_image, make_grid\n",
    "from matplotlib import pyplot as plt\n",
    "from matplotlib.colors import hsv_to_rgb\n",
    "from matplotlib.image import BboxImage\n",
    "from matplotlib.transforms import Bbox, TransformedBbox\n",
    "import numpy as np\n",
    "from IPython import display\n",
    "import requests\n",
    "from io import BytesIO\n",
    "from PIL import Image\n",
    "from PIL import Image, ImageSequence\n",
    "from IPython.display import HTML\n",
    "import warnings\n",
    "from matplotlib import rc\n",
    "import gc\n",
    "import matplotlib\n",
    "import os\n",
    "matplotlib.rcParams['pdf.fonttype'] = 42\n",
    "matplotlib.rcParams['ps.fonttype'] = 42\n",
    "gc.enable()\n",
    "plt.ioff()"
   ]
  },
  {
   "cell_type": "code",
   "execution_count": 2,
   "metadata": {
    "id": "OV5i3LZrohRS"
   },
   "outputs": [],
   "source": [
    "torch.set_default_tensor_type('torch.cuda.HalfTensor')"
   ]
  },
  {
   "cell_type": "code",
   "execution_count": 3,
   "metadata": {},
   "outputs": [
    {
     "data": {
      "text/plain": [
       "True"
      ]
     },
     "execution_count": 3,
     "metadata": {},
     "output_type": "execute_result"
    }
   ],
   "source": [
    "torch.cuda.is_available() "
   ]
  },
  {
   "cell_type": "code",
   "execution_count": 4,
   "metadata": {
    "id": "5Dp0lqYMEuwQ"
   },
   "outputs": [],
   "source": [
    "num_classes = 10\n",
    "resnet = resnet50(pretrained=True)\n",
    "resnet.conv1 = nn.Conv2d(3,64,3,stride=1,padding=1)\n",
    "resnet_ = list(resnet.children())[:-2]\n",
    "resnet_[3] = nn.Upsample(scale_factor=2, mode='bilinear', align_corners=False)\n",
    "classifier = nn.Conv2d(2048, num_classes,1)\n",
    "torch.nn.init.kaiming_normal_(classifier.weight)\n",
    "resnet_.append(classifier)\n",
    "resnet_.append(nn.Upsample(size=32, mode='bilinear', align_corners=False))\n",
    "tiny_resnet = nn.Sequential(*resnet_)"
   ]
  },
  {
   "cell_type": "code",
   "execution_count": 5,
   "metadata": {
    "id": "kGuaEYtyEuwU"
   },
   "outputs": [],
   "source": [
    "def attention(x):\n",
    "    return torch.sigmoid(torch.logsumexp(x,1, keepdim=True))"
   ]
  },
  {
   "cell_type": "code",
   "execution_count": 6,
   "metadata": {
    "colab": {
     "base_uri": "https://localhost:8080/"
    },
    "id": "1iZdhmODEuwV",
    "outputId": "2cb03ea9-a611-4d7f-a154-baed7c83698c"
   },
   "outputs": [
    {
     "name": "stdout",
     "output_type": "stream",
     "text": [
      "Files already downloaded and verified\n",
      "Files already downloaded and verified\n"
     ]
    }
   ],
   "source": [
    "transform_train = transforms.Compose([\n",
    "    transforms.RandomCrop(32, padding=4),\n",
    "    transforms.RandomHorizontalFlip(),\n",
    "    transforms.ToTensor(),\n",
    "    transforms.Normalize((0.4914, 0.4822, 0.4465), (0.2023, 0.1994, 0.2010)),\n",
    "])\n",
    "\n",
    "transform_test = transforms.Compose([\n",
    "    transforms.ToTensor(),\n",
    "    transforms.Normalize((0.4914, 0.4822, 0.4465), (0.2023, 0.1994, 0.2010)),\n",
    "])\n",
    "\n",
    "trainset = CIFAR10(root='.', train=True, download=True, transform=transform_train)\n",
    "train_iter = DataLoader(trainset, batch_size=256, shuffle=True, drop_last=True)\n",
    "\n",
    "testset = CIFAR10(root='.', train=False, download=True, transform=transform_test)\n",
    "test_iter = DataLoader(testset, batch_size=64, shuffle=False)\n",
    "\n",
    "classes = ('plane', 'car', 'bird', 'cat', 'deer', 'dog', 'frog', 'horse', 'ship', 'truck')"
   ]
  },
  {
   "cell_type": "code",
   "execution_count": 7,
   "metadata": {
    "id": "AgUO6qn3EuwW"
   },
   "outputs": [],
   "source": [
    "mpath = \"../data/segment_resnet50.pth\"\n",
    "\n",
    "model = nn.DataParallel(tiny_resnet).cuda()\n",
    "criterion = nn.CrossEntropyLoss() \n",
    "optimizer = torch.optim.SGD(model.parameters(), lr = 0.05, momentum=0.9, weight_decay=1e-4)\n",
    "lr_scheduler = torch.optim.lr_scheduler.CosineAnnealingLR(optimizer,78,eta_min=0.001)"
   ]
  },
  {
   "cell_type": "code",
   "execution_count": 8,
   "metadata": {
    "id": "ts22eEOFEuwa"
   },
   "outputs": [],
   "source": [
    "num_epochs = 15\n",
    "\n",
    "# assert(os.path.isfile(mpath))\n",
    "if(os.path.isfile(mpath)): \n",
    "  saved_state = torch.load(mpath)\n",
    "  s_epoch = int(saved_state['epoch'])\n",
    "  model.load_state_dict(saved_state['state'])\n",
    "  optimizer.load_state_dict(saved_state['optim'])\n",
    "  \n",
    "else: \n",
    "  s_epoch = 0"
   ]
  },
  {
   "cell_type": "code",
   "execution_count": 9,
   "metadata": {
    "colab": {
     "base_uri": "https://localhost:8080/"
    },
    "id": "RaEsbcmxEuwa",
    "outputId": "4106510e-8842-4d8f-928f-455d2ae35f64"
   },
   "outputs": [
    {
     "data": {
      "text/plain": [
       "11"
      ]
     },
     "execution_count": 9,
     "metadata": {},
     "output_type": "execute_result"
    }
   ],
   "source": [
    "s_epoch"
   ]
  },
  {
   "cell_type": "code",
   "execution_count": 10,
   "metadata": {
    "colab": {
     "base_uri": "https://localhost:8080/"
    },
    "id": "UGq-ixmSHJtC",
    "outputId": "7bad9c6d-5964-4abd-ed75-6c4287d6d905"
   },
   "outputs": [
    {
     "name": "stdout",
     "output_type": "stream",
     "text": [
      "Mon Mar  8 22:56:53 2021       \r\n",
      "+-----------------------------------------------------------------------------+\r\n",
      "| NVIDIA-SMI 460.32.03    Driver Version: 460.32.03    CUDA Version: 11.2     |\r\n",
      "|-------------------------------+----------------------+----------------------+\r\n",
      "| GPU  Name        Persistence-M| Bus-Id        Disp.A | Volatile Uncorr. ECC |\r\n",
      "| Fan  Temp  Perf  Pwr:Usage/Cap|         Memory-Usage | GPU-Util  Compute M. |\r\n",
      "|                               |                      |               MIG M. |\r\n",
      "|===============================+======================+======================|\r\n",
      "|   0  Tesla V100-SXM2...  Off  | 00000000:00:04.0 Off |                    0 |\r\n",
      "| N/A   35C    P0    39W / 300W |   1227MiB / 16160MiB |      0%      Default |\r\n",
      "|                               |                      |                  N/A |\r\n",
      "+-------------------------------+----------------------+----------------------+\r\n",
      "                                                                               \r\n",
      "+-----------------------------------------------------------------------------+\r\n",
      "| Processes:                                                                  |\r\n",
      "|  GPU   GI   CI        PID   Type   Process name                  GPU Memory |\r\n",
      "|        ID   ID                                                   Usage      |\r\n",
      "|=============================================================================|\r\n",
      "|    0   N/A  N/A     13416      C   /opt/conda/bin/python            1225MiB |\r\n",
      "+-----------------------------------------------------------------------------+\r\n"
     ]
    }
   ],
   "source": [
    "!nvidia-smi"
   ]
  },
  {
   "cell_type": "code",
   "execution_count": 12,
   "metadata": {
    "colab": {
     "base_uri": "https://localhost:8080/",
     "height": 1000,
     "referenced_widgets": [
      "70ac5d262e8d4808a484f3244f2ea45e",
      "081ce537758b4fb6afb641fcd2f768bb",
      "f8a14816c92f4916b68631dce031b6f1",
      "7307acaaa6814c538855cfd10e4de9bb",
      "8b5943fc8b16442eb83b9866ad264306",
      "2bf04e86582e4897b461db0aa3c2bdf0",
      "d8868e74e086455d8f514c826690c730",
      "0ae00f1e77e341bfad914190dedb218e",
      "32c2fc291da141abb12cc6baa7265883",
      "6d3f11e6b8984d459684a97561f2528e",
      "401ab6ec71d54c0f920a337224daebb0",
      "c219f4353b9444b3a6fff428f9cfc053",
      "2292e67f2b3340749d1b6bcaaaa5be6a",
      "f9ffd158fb7945ca99230cb346dae0f3",
      "ea6736d0ee4f4aeda8f58c1d1e8689e6",
      "7d852e73f22f4a65a0109e35d9408ae6"
     ]
    },
    "id": "ZNd3XQ0ZEuwb",
    "outputId": "f2224b96-5c91-4fb8-c3bf-a574b82b91df"
   },
   "outputs": [
    {
     "name": "stderr",
     "output_type": "stream",
     "text": [
      "/opt/conda/lib/python3.7/site-packages/ipykernel_launcher.py:5: TqdmDeprecationWarning: This function will be removed in tqdm==5.0.0\n",
      "Please use `tqdm.notebook.tqdm` instead of `tqdm.tqdm_notebook`\n",
      "  \"\"\"\n"
     ]
    },
    {
     "data": {
      "application/vnd.jupyter.widget-view+json": {
       "model_id": "f828431bee244fed8bc50e5126fa53ba",
       "version_major": 2,
       "version_minor": 0
      },
      "text/plain": [
       "  0%|          | 0/3 [00:00<?, ?it/s]"
      ]
     },
     "metadata": {},
     "output_type": "display_data"
    },
    {
     "name": "stderr",
     "output_type": "stream",
     "text": [
      "/opt/conda/lib/python3.7/site-packages/ipykernel_launcher.py:45: TqdmDeprecationWarning: This function will be removed in tqdm==5.0.0\n",
      "Please use `tqdm.notebook.tqdm` instead of `tqdm.tqdm_notebook`\n"
     ]
    },
    {
     "data": {
      "application/vnd.jupyter.widget-view+json": {
       "model_id": "0047ec6d305a49c7a4fb25301f6eab73",
       "version_major": 2,
       "version_minor": 0
      },
      "text/plain": [
       "  0%|          | 0/157 [00:00<?, ?it/s]"
      ]
     },
     "metadata": {},
     "output_type": "display_data"
    },
    {
     "ename": "AttributeError",
     "evalue": "'float' object has no attribute 'cpu'",
     "output_type": "error",
     "traceback": [
      "\u001b[0;31m---------------------------------------------------------------------------\u001b[0m",
      "\u001b[0;31mAttributeError\u001b[0m                            Traceback (most recent call last)",
      "\u001b[0;32m<ipython-input-12-2ba5215f231f>\u001b[0m in \u001b[0;36m<module>\u001b[0;34m\u001b[0m\n\u001b[1;32m     61\u001b[0m     \u001b[0mavg_loss_val\u001b[0m \u001b[0;34m=\u001b[0m \u001b[0mepoch_loss\u001b[0m \u001b[0;34m/\u001b[0m \u001b[0;34m(\u001b[0m\u001b[0mi\u001b[0m \u001b[0;34m+\u001b[0m \u001b[0;36m1\u001b[0m\u001b[0;34m)\u001b[0m\u001b[0;34m\u001b[0m\u001b[0;34m\u001b[0m\u001b[0m\n\u001b[1;32m     62\u001b[0m     \u001b[0mv_losses\u001b[0m\u001b[0;34m.\u001b[0m\u001b[0mappend\u001b[0m\u001b[0;34m(\u001b[0m\u001b[0mavg_loss_val\u001b[0m\u001b[0;34m)\u001b[0m\u001b[0;34m\u001b[0m\u001b[0;34m\u001b[0m\u001b[0m\n\u001b[0;32m---> 63\u001b[0;31m     \u001b[0mavg_acc_val\u001b[0m \u001b[0;34m=\u001b[0m \u001b[0macc\u001b[0m\u001b[0;34m.\u001b[0m\u001b[0mcpu\u001b[0m\u001b[0;34m(\u001b[0m\u001b[0;34m)\u001b[0m\u001b[0;34m.\u001b[0m\u001b[0mdetach\u001b[0m\u001b[0;34m(\u001b[0m\u001b[0;34m)\u001b[0m\u001b[0;34m.\u001b[0m\u001b[0mnumpy\u001b[0m\u001b[0;34m(\u001b[0m\u001b[0;34m)\u001b[0m \u001b[0;34m/\u001b[0m \u001b[0;34m(\u001b[0m\u001b[0mlen\u001b[0m\u001b[0;34m(\u001b[0m\u001b[0mtestset\u001b[0m\u001b[0;34m)\u001b[0m\u001b[0;34m)\u001b[0m\u001b[0;34m\u001b[0m\u001b[0;34m\u001b[0m\u001b[0m\n\u001b[0m\u001b[1;32m     64\u001b[0m     \u001b[0mv_acces\u001b[0m\u001b[0;34m.\u001b[0m\u001b[0mappend\u001b[0m\u001b[0;34m(\u001b[0m\u001b[0mavg_acc_val\u001b[0m\u001b[0;34m)\u001b[0m\u001b[0;34m\u001b[0m\u001b[0;34m\u001b[0m\u001b[0m\n\u001b[1;32m     65\u001b[0m     \u001b[0mplt\u001b[0m\u001b[0;34m.\u001b[0m\u001b[0mclose\u001b[0m\u001b[0;34m(\u001b[0m\u001b[0;34m'all'\u001b[0m\u001b[0;34m)\u001b[0m\u001b[0;34m\u001b[0m\u001b[0;34m\u001b[0m\u001b[0m\n",
      "\u001b[0;31mAttributeError\u001b[0m: 'float' object has no attribute 'cpu'"
     ]
    }
   ],
   "source": [
    "losses = []\n",
    "acces = []\n",
    "v_losses = []\n",
    "v_acces = []\n",
    "for epoch in tqdm(range(s_epoch+1, num_epochs)):\n",
    "    epoch_loss = 0.0\n",
    "    acc = 0.0\n",
    "    var = 0.0\n",
    "    model.train()\n",
    "    train_pbar = train_iter\n",
    "    for i, (x, label) in enumerate(train_pbar):\n",
    "        \n",
    "        x = x.type(torch.HalfTensor).cuda()\n",
    "        label = label.cuda()\n",
    "        seg_out = model(x)\n",
    "        \n",
    "        attn = attention(seg_out)\n",
    "        # Smooth Max Aggregation\n",
    "        logit = torch.log(torch.exp(seg_out*0.5).mean((-2,-1)))*2\n",
    "        loss = criterion(logit, label)\n",
    "        optimizer.zero_grad()\n",
    "        loss.backward()\n",
    "        optimizer.step()\n",
    "        lr_scheduler.step()\n",
    "        epoch_loss += loss.item()\n",
    "        acc += (logit.argmax(-1)==label).sum()\n",
    "        #train_pbar.set_description('Accuracy: {:.3f}%'.format(100*(logit.argmax(-1)==_label).float().mean()))\n",
    "        \n",
    "    avg_loss = epoch_loss / (i + 1)\n",
    "    losses.append(avg_loss)\n",
    "    avg_acc = acc.cpu().detach().numpy() / (len(trainset))\n",
    "    acces.append(avg_acc)\n",
    "    model.eval()\n",
    "    epoch_loss = 0.0\n",
    "    acc = 0.0\n",
    "    num_seen = 0\n",
    "\n",
    "    state = {\n",
    "        \"state\": model.state_dict(),\n",
    "        \"epoch\": epoch, \n",
    "        \"optim\": optimizer.state_dict()\n",
    "    }\n",
    "    torch.save(state, mpath)\n",
    "    \n",
    "    test_pbar = tqdm(test_iter)\n",
    "    with torch.no_grad(): \n",
    "        for i, (x, label) in enumerate(test_pbar):\n",
    "            x = x.type(torch.HalfTensor).cuda()\n",
    "            label = label.cuda()\n",
    "            seg_out = model(x)\n",
    "            attn = attention(seg_out)\n",
    "            logit = torch.log(torch.exp(seg_out*0.5).mean((-2,-1)))*2\n",
    "            if label.shape != logit.shape:\n",
    "                continue \n",
    "            loss = criterion(logit, label)\n",
    "            epoch_loss += loss.item()\n",
    "            acc += (logit.argmax(-1)==label).sum()\n",
    "            num_seen += label.size(0)\n",
    "            test_pbar.set_description('Accuracy: {:.3f}%'.format(100*(acc.float()/num_seen)))\n",
    "\n",
    "    avg_loss_val = epoch_loss / (i + 1)\n",
    "    v_losses.append(avg_loss_val)\n",
    "    avg_acc_val = acc.cpu().detach().numpy() / (len(testset))\n",
    "    v_acces.append(avg_acc_val)\n",
    "    plt.close('all')\n",
    "\n",
    "    conf = torch.max(nn.functional.softmax(seg_out, dim=1), dim=1)[0]\n",
    "    hue = (torch.argmax(seg_out, dim=1).float() + 0.5)/10\n",
    "    x -= x.min()\n",
    "    x /= x.max()\n",
    "    gs_im = x.mean(1)\n",
    "    gs_mean = gs_im.mean()\n",
    "    gs_min = gs_im.min()\n",
    "    gs_max = torch.max((gs_im-gs_min))\n",
    "    gs_im = (gs_im - gs_min)/gs_max\n",
    "    hsv_im = torch.stack((hue.float(), attn.squeeze().float(), gs_im.float()), -1)\n",
    "    im = hsv_to_rgb(hsv_im.cpu().detach().numpy())\n",
    "    ex = make_grid(torch.tensor(im).permute(0,3,1,2), normalize=True, nrow=25)\n",
    "    attns = make_grid(attn, normalize=False, nrow=25)\n",
    "    attns = attns.cpu().detach()\n",
    "    inputs = make_grid(x, normalize=True, nrow=25).cpu().detach()\n",
    "    display.clear_output(wait=True)\n",
    "    plt.figure(figsize=(20,8))\n",
    "    plt.imshow(np.concatenate((inputs.cpu().numpy().transpose(1,2,0),ex.cpu().numpy().transpose(1,2,0), attns.cpu().numpy().transpose(1,2,0)), axis=0))\n",
    "    #plt.xticks(np.linspace(18,324,10), classes)\n",
    "    #plt.xticks(fontsize=20) \n",
    "    plt.yticks([])\n",
    "    plt.title('CIFAR10 Epoch:{:02d}, Train:{:.3f}, Test:{:.3f}'.format(epoch, avg_acc, avg_acc_val), fontsize=20)\n",
    "    display.display(plt.gcf())\n",
    "    fig, ax = plt.subplots(1,2, figsize=(20,8))\n",
    "    ax[0].set_title('Crossentropy')\n",
    "    ax[0].plot(losses, label='Train')\n",
    "    ax[0].plot(v_losses, label='CIFAR10 Test')\n",
    "    ax[0].legend()\n",
    "    ax[1].set_title('Accuracy')\n",
    "    ax[1].plot(acces, label='Train')\n",
    "    ax[1].plot(v_acces, label='CIFAR10 Test')\n",
    "    ax[1].legend()\n",
    "    display.display(plt.gcf())"
   ]
  },
  {
   "cell_type": "code",
   "execution_count": null,
   "metadata": {
    "id": "6v4J6ZuIJ9Iy"
   },
   "outputs": [],
   "source": []
  },
  {
   "cell_type": "code",
   "execution_count": null,
   "metadata": {},
   "outputs": [],
   "source": []
  }
 ],
 "metadata": {
  "accelerator": "GPU",
  "colab": {
   "collapsed_sections": [],
   "name": "cifar10_semantic_segmentation.ipynb",
   "provenance": []
  },
  "kernelspec": {
   "display_name": "Python 3",
   "language": "python",
   "name": "python3"
  },
  "language_info": {
   "codemirror_mode": {
    "name": "ipython",
    "version": 3
   },
   "file_extension": ".py",
   "mimetype": "text/x-python",
   "name": "python",
   "nbconvert_exporter": "python",
   "pygments_lexer": "ipython3",
   "version": "3.7.10"
  },
  "widgets": {
   "application/vnd.jupyter.widget-state+json": {
    "02fd92083775466bad778b1c388ad14c": {
     "model_module": "@jupyter-widgets/base",
     "model_name": "LayoutModel",
     "state": {
      "_model_module": "@jupyter-widgets/base",
      "_model_module_version": "1.2.0",
      "_model_name": "LayoutModel",
      "_view_count": null,
      "_view_module": "@jupyter-widgets/base",
      "_view_module_version": "1.2.0",
      "_view_name": "LayoutView",
      "align_content": null,
      "align_items": null,
      "align_self": null,
      "border": null,
      "bottom": null,
      "display": null,
      "flex": null,
      "flex_flow": null,
      "grid_area": null,
      "grid_auto_columns": null,
      "grid_auto_flow": null,
      "grid_auto_rows": null,
      "grid_column": null,
      "grid_gap": null,
      "grid_row": null,
      "grid_template_areas": null,
      "grid_template_columns": null,
      "grid_template_rows": null,
      "height": null,
      "justify_content": null,
      "justify_items": null,
      "left": null,
      "margin": null,
      "max_height": null,
      "max_width": null,
      "min_height": null,
      "min_width": null,
      "object_fit": null,
      "object_position": null,
      "order": null,
      "overflow": null,
      "overflow_x": null,
      "overflow_y": null,
      "padding": null,
      "right": null,
      "top": null,
      "visibility": null,
      "width": null
     }
    },
    "06ef1a2a44e54c93964ee1ef0dcd9c90": {
     "model_module": "@jupyter-widgets/base",
     "model_name": "LayoutModel",
     "state": {
      "_model_module": "@jupyter-widgets/base",
      "_model_module_version": "1.2.0",
      "_model_name": "LayoutModel",
      "_view_count": null,
      "_view_module": "@jupyter-widgets/base",
      "_view_module_version": "1.2.0",
      "_view_name": "LayoutView",
      "align_content": null,
      "align_items": null,
      "align_self": null,
      "border": null,
      "bottom": null,
      "display": null,
      "flex": null,
      "flex_flow": null,
      "grid_area": null,
      "grid_auto_columns": null,
      "grid_auto_flow": null,
      "grid_auto_rows": null,
      "grid_column": null,
      "grid_gap": null,
      "grid_row": null,
      "grid_template_areas": null,
      "grid_template_columns": null,
      "grid_template_rows": null,
      "height": null,
      "justify_content": null,
      "justify_items": null,
      "left": null,
      "margin": null,
      "max_height": null,
      "max_width": null,
      "min_height": null,
      "min_width": null,
      "object_fit": null,
      "object_position": null,
      "order": null,
      "overflow": null,
      "overflow_x": null,
      "overflow_y": null,
      "padding": null,
      "right": null,
      "top": null,
      "visibility": null,
      "width": null
     }
    },
    "081ce537758b4fb6afb641fcd2f768bb": {
     "model_module": "@jupyter-widgets/base",
     "model_name": "LayoutModel",
     "state": {
      "_model_module": "@jupyter-widgets/base",
      "_model_module_version": "1.2.0",
      "_model_name": "LayoutModel",
      "_view_count": null,
      "_view_module": "@jupyter-widgets/base",
      "_view_module_version": "1.2.0",
      "_view_name": "LayoutView",
      "align_content": null,
      "align_items": null,
      "align_self": null,
      "border": null,
      "bottom": null,
      "display": null,
      "flex": null,
      "flex_flow": null,
      "grid_area": null,
      "grid_auto_columns": null,
      "grid_auto_flow": null,
      "grid_auto_rows": null,
      "grid_column": null,
      "grid_gap": null,
      "grid_row": null,
      "grid_template_areas": null,
      "grid_template_columns": null,
      "grid_template_rows": null,
      "height": null,
      "justify_content": null,
      "justify_items": null,
      "left": null,
      "margin": null,
      "max_height": null,
      "max_width": null,
      "min_height": null,
      "min_width": null,
      "object_fit": null,
      "object_position": null,
      "order": null,
      "overflow": null,
      "overflow_x": null,
      "overflow_y": null,
      "padding": null,
      "right": null,
      "top": null,
      "visibility": null,
      "width": null
     }
    },
    "0ae00f1e77e341bfad914190dedb218e": {
     "model_module": "@jupyter-widgets/base",
     "model_name": "LayoutModel",
     "state": {
      "_model_module": "@jupyter-widgets/base",
      "_model_module_version": "1.2.0",
      "_model_name": "LayoutModel",
      "_view_count": null,
      "_view_module": "@jupyter-widgets/base",
      "_view_module_version": "1.2.0",
      "_view_name": "LayoutView",
      "align_content": null,
      "align_items": null,
      "align_self": null,
      "border": null,
      "bottom": null,
      "display": null,
      "flex": null,
      "flex_flow": null,
      "grid_area": null,
      "grid_auto_columns": null,
      "grid_auto_flow": null,
      "grid_auto_rows": null,
      "grid_column": null,
      "grid_gap": null,
      "grid_row": null,
      "grid_template_areas": null,
      "grid_template_columns": null,
      "grid_template_rows": null,
      "height": null,
      "justify_content": null,
      "justify_items": null,
      "left": null,
      "margin": null,
      "max_height": null,
      "max_width": null,
      "min_height": null,
      "min_width": null,
      "object_fit": null,
      "object_position": null,
      "order": null,
      "overflow": null,
      "overflow_x": null,
      "overflow_y": null,
      "padding": null,
      "right": null,
      "top": null,
      "visibility": null,
      "width": null
     }
    },
    "0fd297bff02e44019a98aa150df4e41a": {
     "model_module": "@jupyter-widgets/controls",
     "model_name": "HBoxModel",
     "state": {
      "_dom_classes": [],
      "_model_module": "@jupyter-widgets/controls",
      "_model_module_version": "1.5.0",
      "_model_name": "HBoxModel",
      "_view_count": null,
      "_view_module": "@jupyter-widgets/controls",
      "_view_module_version": "1.5.0",
      "_view_name": "HBoxView",
      "box_style": "",
      "children": [
       "IPY_MODEL_81f8e566afc64ec3aabcdb34614b65a2",
       "IPY_MODEL_f8365e7f4af04a7e96558db000e3f805"
      ],
      "layout": "IPY_MODEL_31cf37946f5d492883cbdbe4fb002b83"
     }
    },
    "1270a7be010d44118d35ae9629d7721b": {
     "model_module": "@jupyter-widgets/base",
     "model_name": "LayoutModel",
     "state": {
      "_model_module": "@jupyter-widgets/base",
      "_model_module_version": "1.2.0",
      "_model_name": "LayoutModel",
      "_view_count": null,
      "_view_module": "@jupyter-widgets/base",
      "_view_module_version": "1.2.0",
      "_view_name": "LayoutView",
      "align_content": null,
      "align_items": null,
      "align_self": null,
      "border": null,
      "bottom": null,
      "display": null,
      "flex": null,
      "flex_flow": null,
      "grid_area": null,
      "grid_auto_columns": null,
      "grid_auto_flow": null,
      "grid_auto_rows": null,
      "grid_column": null,
      "grid_gap": null,
      "grid_row": null,
      "grid_template_areas": null,
      "grid_template_columns": null,
      "grid_template_rows": null,
      "height": null,
      "justify_content": null,
      "justify_items": null,
      "left": null,
      "margin": null,
      "max_height": null,
      "max_width": null,
      "min_height": null,
      "min_width": null,
      "object_fit": null,
      "object_position": null,
      "order": null,
      "overflow": null,
      "overflow_x": null,
      "overflow_y": null,
      "padding": null,
      "right": null,
      "top": null,
      "visibility": null,
      "width": null
     }
    },
    "1798a9fa8aac4878a61bcdd1669c302b": {
     "model_module": "@jupyter-widgets/controls",
     "model_name": "ProgressStyleModel",
     "state": {
      "_model_module": "@jupyter-widgets/controls",
      "_model_module_version": "1.5.0",
      "_model_name": "ProgressStyleModel",
      "_view_count": null,
      "_view_module": "@jupyter-widgets/base",
      "_view_module_version": "1.2.0",
      "_view_name": "StyleView",
      "bar_color": null,
      "description_width": "initial"
     }
    },
    "1ac94700ad6342fea1695465ffae6226": {
     "model_module": "@jupyter-widgets/base",
     "model_name": "LayoutModel",
     "state": {
      "_model_module": "@jupyter-widgets/base",
      "_model_module_version": "1.2.0",
      "_model_name": "LayoutModel",
      "_view_count": null,
      "_view_module": "@jupyter-widgets/base",
      "_view_module_version": "1.2.0",
      "_view_name": "LayoutView",
      "align_content": null,
      "align_items": null,
      "align_self": null,
      "border": null,
      "bottom": null,
      "display": null,
      "flex": null,
      "flex_flow": null,
      "grid_area": null,
      "grid_auto_columns": null,
      "grid_auto_flow": null,
      "grid_auto_rows": null,
      "grid_column": null,
      "grid_gap": null,
      "grid_row": null,
      "grid_template_areas": null,
      "grid_template_columns": null,
      "grid_template_rows": null,
      "height": null,
      "justify_content": null,
      "justify_items": null,
      "left": null,
      "margin": null,
      "max_height": null,
      "max_width": null,
      "min_height": null,
      "min_width": null,
      "object_fit": null,
      "object_position": null,
      "order": null,
      "overflow": null,
      "overflow_x": null,
      "overflow_y": null,
      "padding": null,
      "right": null,
      "top": null,
      "visibility": null,
      "width": null
     }
    },
    "213e0896b33a475e94a48537a08042f2": {
     "model_module": "@jupyter-widgets/controls",
     "model_name": "ProgressStyleModel",
     "state": {
      "_model_module": "@jupyter-widgets/controls",
      "_model_module_version": "1.5.0",
      "_model_name": "ProgressStyleModel",
      "_view_count": null,
      "_view_module": "@jupyter-widgets/base",
      "_view_module_version": "1.2.0",
      "_view_name": "StyleView",
      "bar_color": null,
      "description_width": "initial"
     }
    },
    "2292e67f2b3340749d1b6bcaaaa5be6a": {
     "model_module": "@jupyter-widgets/controls",
     "model_name": "ProgressStyleModel",
     "state": {
      "_model_module": "@jupyter-widgets/controls",
      "_model_module_version": "1.5.0",
      "_model_name": "ProgressStyleModel",
      "_view_count": null,
      "_view_module": "@jupyter-widgets/base",
      "_view_module_version": "1.2.0",
      "_view_name": "StyleView",
      "bar_color": null,
      "description_width": "initial"
     }
    },
    "29c5466e2284453181d86451fedf55ae": {
     "model_module": "@jupyter-widgets/controls",
     "model_name": "HTMLModel",
     "state": {
      "_dom_classes": [],
      "_model_module": "@jupyter-widgets/controls",
      "_model_module_version": "1.5.0",
      "_model_name": "HTMLModel",
      "_view_count": null,
      "_view_module": "@jupyter-widgets/controls",
      "_view_module_version": "1.5.0",
      "_view_name": "HTMLView",
      "description": "",
      "description_tooltip": null,
      "layout": "IPY_MODEL_ba8e90abfebe418ebce6b576bc1ed5c6",
      "placeholder": "​",
      "style": "IPY_MODEL_f988422736c849beabfc268590bba128",
      "value": " 44.7M/44.7M [01:03&lt;00:00, 737kB/s]"
     }
    },
    "2bcbaff7e2284dc58e810537c8ecb21d": {
     "model_module": "@jupyter-widgets/controls",
     "model_name": "ProgressStyleModel",
     "state": {
      "_model_module": "@jupyter-widgets/controls",
      "_model_module_version": "1.5.0",
      "_model_name": "ProgressStyleModel",
      "_view_count": null,
      "_view_module": "@jupyter-widgets/base",
      "_view_module_version": "1.2.0",
      "_view_name": "StyleView",
      "bar_color": null,
      "description_width": "initial"
     }
    },
    "2bf04e86582e4897b461db0aa3c2bdf0": {
     "model_module": "@jupyter-widgets/base",
     "model_name": "LayoutModel",
     "state": {
      "_model_module": "@jupyter-widgets/base",
      "_model_module_version": "1.2.0",
      "_model_name": "LayoutModel",
      "_view_count": null,
      "_view_module": "@jupyter-widgets/base",
      "_view_module_version": "1.2.0",
      "_view_name": "LayoutView",
      "align_content": null,
      "align_items": null,
      "align_self": null,
      "border": null,
      "bottom": null,
      "display": null,
      "flex": null,
      "flex_flow": null,
      "grid_area": null,
      "grid_auto_columns": null,
      "grid_auto_flow": null,
      "grid_auto_rows": null,
      "grid_column": null,
      "grid_gap": null,
      "grid_row": null,
      "grid_template_areas": null,
      "grid_template_columns": null,
      "grid_template_rows": null,
      "height": null,
      "justify_content": null,
      "justify_items": null,
      "left": null,
      "margin": null,
      "max_height": null,
      "max_width": null,
      "min_height": null,
      "min_width": null,
      "object_fit": null,
      "object_position": null,
      "order": null,
      "overflow": null,
      "overflow_x": null,
      "overflow_y": null,
      "padding": null,
      "right": null,
      "top": null,
      "visibility": null,
      "width": null
     }
    },
    "31cf37946f5d492883cbdbe4fb002b83": {
     "model_module": "@jupyter-widgets/base",
     "model_name": "LayoutModel",
     "state": {
      "_model_module": "@jupyter-widgets/base",
      "_model_module_version": "1.2.0",
      "_model_name": "LayoutModel",
      "_view_count": null,
      "_view_module": "@jupyter-widgets/base",
      "_view_module_version": "1.2.0",
      "_view_name": "LayoutView",
      "align_content": null,
      "align_items": null,
      "align_self": null,
      "border": null,
      "bottom": null,
      "display": null,
      "flex": null,
      "flex_flow": null,
      "grid_area": null,
      "grid_auto_columns": null,
      "grid_auto_flow": null,
      "grid_auto_rows": null,
      "grid_column": null,
      "grid_gap": null,
      "grid_row": null,
      "grid_template_areas": null,
      "grid_template_columns": null,
      "grid_template_rows": null,
      "height": null,
      "justify_content": null,
      "justify_items": null,
      "left": null,
      "margin": null,
      "max_height": null,
      "max_width": null,
      "min_height": null,
      "min_width": null,
      "object_fit": null,
      "object_position": null,
      "order": null,
      "overflow": null,
      "overflow_x": null,
      "overflow_y": null,
      "padding": null,
      "right": null,
      "top": null,
      "visibility": null,
      "width": null
     }
    },
    "32c2fc291da141abb12cc6baa7265883": {
     "model_module": "@jupyter-widgets/controls",
     "model_name": "HBoxModel",
     "state": {
      "_dom_classes": [],
      "_model_module": "@jupyter-widgets/controls",
      "_model_module_version": "1.5.0",
      "_model_name": "HBoxModel",
      "_view_count": null,
      "_view_module": "@jupyter-widgets/controls",
      "_view_module_version": "1.5.0",
      "_view_name": "HBoxView",
      "box_style": "",
      "children": [
       "IPY_MODEL_401ab6ec71d54c0f920a337224daebb0",
       "IPY_MODEL_c219f4353b9444b3a6fff428f9cfc053"
      ],
      "layout": "IPY_MODEL_6d3f11e6b8984d459684a97561f2528e"
     }
    },
    "3b8efb06109a427d821c9a8d289b495b": {
     "model_module": "@jupyter-widgets/controls",
     "model_name": "HTMLModel",
     "state": {
      "_dom_classes": [],
      "_model_module": "@jupyter-widgets/controls",
      "_model_module_version": "1.5.0",
      "_model_name": "HTMLModel",
      "_view_count": null,
      "_view_module": "@jupyter-widgets/controls",
      "_view_module_version": "1.5.0",
      "_view_name": "HTMLView",
      "description": "",
      "description_tooltip": null,
      "layout": "IPY_MODEL_02fd92083775466bad778b1c388ad14c",
      "placeholder": "​",
      "style": "IPY_MODEL_4d81407f4a534f3ea653a1880e4ce70c",
      "value": " 170500096/? [00:20&lt;00:00, 50491853.14it/s]"
     }
    },
    "3f39acd798444cbfa1997d16f9a811d9": {
     "model_module": "@jupyter-widgets/controls",
     "model_name": "FloatProgressModel",
     "state": {
      "_dom_classes": [],
      "_model_module": "@jupyter-widgets/controls",
      "_model_module_version": "1.5.0",
      "_model_name": "FloatProgressModel",
      "_view_count": null,
      "_view_module": "@jupyter-widgets/controls",
      "_view_module_version": "1.5.0",
      "_view_name": "ProgressView",
      "bar_style": "success",
      "description": "Accuracy: 94.740%: 100%",
      "description_tooltip": null,
      "layout": "IPY_MODEL_e88b609ab2624c069fd207abfb60b35c",
      "max": 100,
      "min": 0,
      "orientation": "horizontal",
      "style": "IPY_MODEL_ca6c4d6dff924e51b3965012f1c22dce",
      "value": 100
     }
    },
    "401ab6ec71d54c0f920a337224daebb0": {
     "model_module": "@jupyter-widgets/controls",
     "model_name": "FloatProgressModel",
     "state": {
      "_dom_classes": [],
      "_model_module": "@jupyter-widgets/controls",
      "_model_module_version": "1.5.0",
      "_model_name": "FloatProgressModel",
      "_view_count": null,
      "_view_module": "@jupyter-widgets/controls",
      "_view_module_version": "1.5.0",
      "_view_name": "ProgressView",
      "bar_style": "danger",
      "description": "Accuracy: 87.891%:   2%",
      "description_tooltip": null,
      "layout": "IPY_MODEL_f9ffd158fb7945ca99230cb346dae0f3",
      "max": 40,
      "min": 0,
      "orientation": "horizontal",
      "style": "IPY_MODEL_2292e67f2b3340749d1b6bcaaaa5be6a",
      "value": 1
     }
    },
    "4866ed394f6d40b79e2f276d78dd388b": {
     "model_module": "@jupyter-widgets/controls",
     "model_name": "ProgressStyleModel",
     "state": {
      "_model_module": "@jupyter-widgets/controls",
      "_model_module_version": "1.5.0",
      "_model_name": "ProgressStyleModel",
      "_view_count": null,
      "_view_module": "@jupyter-widgets/base",
      "_view_module_version": "1.2.0",
      "_view_name": "StyleView",
      "bar_color": null,
      "description_width": "initial"
     }
    },
    "4aca928e848d4ae9875bccaf42fa5301": {
     "model_module": "@jupyter-widgets/base",
     "model_name": "LayoutModel",
     "state": {
      "_model_module": "@jupyter-widgets/base",
      "_model_module_version": "1.2.0",
      "_model_name": "LayoutModel",
      "_view_count": null,
      "_view_module": "@jupyter-widgets/base",
      "_view_module_version": "1.2.0",
      "_view_name": "LayoutView",
      "align_content": null,
      "align_items": null,
      "align_self": null,
      "border": null,
      "bottom": null,
      "display": null,
      "flex": null,
      "flex_flow": null,
      "grid_area": null,
      "grid_auto_columns": null,
      "grid_auto_flow": null,
      "grid_auto_rows": null,
      "grid_column": null,
      "grid_gap": null,
      "grid_row": null,
      "grid_template_areas": null,
      "grid_template_columns": null,
      "grid_template_rows": null,
      "height": null,
      "justify_content": null,
      "justify_items": null,
      "left": null,
      "margin": null,
      "max_height": null,
      "max_width": null,
      "min_height": null,
      "min_width": null,
      "object_fit": null,
      "object_position": null,
      "order": null,
      "overflow": null,
      "overflow_x": null,
      "overflow_y": null,
      "padding": null,
      "right": null,
      "top": null,
      "visibility": null,
      "width": null
     }
    },
    "4d81407f4a534f3ea653a1880e4ce70c": {
     "model_module": "@jupyter-widgets/controls",
     "model_name": "DescriptionStyleModel",
     "state": {
      "_model_module": "@jupyter-widgets/controls",
      "_model_module_version": "1.5.0",
      "_model_name": "DescriptionStyleModel",
      "_view_count": null,
      "_view_module": "@jupyter-widgets/base",
      "_view_module_version": "1.2.0",
      "_view_name": "StyleView",
      "description_width": ""
     }
    },
    "5a409e4047d74577a15b055bba64ff6d": {
     "model_module": "@jupyter-widgets/controls",
     "model_name": "HBoxModel",
     "state": {
      "_dom_classes": [],
      "_model_module": "@jupyter-widgets/controls",
      "_model_module_version": "1.5.0",
      "_model_name": "HBoxModel",
      "_view_count": null,
      "_view_module": "@jupyter-widgets/controls",
      "_view_module_version": "1.5.0",
      "_view_name": "HBoxView",
      "box_style": "",
      "children": [
       "IPY_MODEL_b37ec40afd534671aa80c159de6d1aa9",
       "IPY_MODEL_f1c20fd67b4b4065925c56443010c6ac"
      ],
      "layout": "IPY_MODEL_4aca928e848d4ae9875bccaf42fa5301"
     }
    },
    "5e1e87627f704c6c9ae83dd8c88654e5": {
     "model_module": "@jupyter-widgets/controls",
     "model_name": "DescriptionStyleModel",
     "state": {
      "_model_module": "@jupyter-widgets/controls",
      "_model_module_version": "1.5.0",
      "_model_name": "DescriptionStyleModel",
      "_view_count": null,
      "_view_module": "@jupyter-widgets/base",
      "_view_module_version": "1.2.0",
      "_view_name": "StyleView",
      "description_width": ""
     }
    },
    "6a50ed1a199744e48796808787ac812a": {
     "model_module": "@jupyter-widgets/controls",
     "model_name": "FloatProgressModel",
     "state": {
      "_dom_classes": [],
      "_model_module": "@jupyter-widgets/controls",
      "_model_module_version": "1.5.0",
      "_model_name": "FloatProgressModel",
      "_view_count": null,
      "_view_module": "@jupyter-widgets/controls",
      "_view_module_version": "1.5.0",
      "_view_name": "ProgressView",
      "bar_style": "success",
      "description": "100%",
      "description_tooltip": null,
      "layout": "IPY_MODEL_b1a04069864c42279e2d10e5117a8e55",
      "max": 46827520,
      "min": 0,
      "orientation": "horizontal",
      "style": "IPY_MODEL_2bcbaff7e2284dc58e810537c8ecb21d",
      "value": 46827520
     }
    },
    "6d2c1c7fedb349b1a52e7b7eff52f04d": {
     "model_module": "@jupyter-widgets/controls",
     "model_name": "DescriptionStyleModel",
     "state": {
      "_model_module": "@jupyter-widgets/controls",
      "_model_module_version": "1.5.0",
      "_model_name": "DescriptionStyleModel",
      "_view_count": null,
      "_view_module": "@jupyter-widgets/base",
      "_view_module_version": "1.2.0",
      "_view_name": "StyleView",
      "description_width": ""
     }
    },
    "6d3f11e6b8984d459684a97561f2528e": {
     "model_module": "@jupyter-widgets/base",
     "model_name": "LayoutModel",
     "state": {
      "_model_module": "@jupyter-widgets/base",
      "_model_module_version": "1.2.0",
      "_model_name": "LayoutModel",
      "_view_count": null,
      "_view_module": "@jupyter-widgets/base",
      "_view_module_version": "1.2.0",
      "_view_name": "LayoutView",
      "align_content": null,
      "align_items": null,
      "align_self": null,
      "border": null,
      "bottom": null,
      "display": null,
      "flex": null,
      "flex_flow": null,
      "grid_area": null,
      "grid_auto_columns": null,
      "grid_auto_flow": null,
      "grid_auto_rows": null,
      "grid_column": null,
      "grid_gap": null,
      "grid_row": null,
      "grid_template_areas": null,
      "grid_template_columns": null,
      "grid_template_rows": null,
      "height": null,
      "justify_content": null,
      "justify_items": null,
      "left": null,
      "margin": null,
      "max_height": null,
      "max_width": null,
      "min_height": null,
      "min_width": null,
      "object_fit": null,
      "object_position": null,
      "order": null,
      "overflow": null,
      "overflow_x": null,
      "overflow_y": null,
      "padding": null,
      "right": null,
      "top": null,
      "visibility": null,
      "width": null
     }
    },
    "70ac5d262e8d4808a484f3244f2ea45e": {
     "model_module": "@jupyter-widgets/controls",
     "model_name": "HBoxModel",
     "state": {
      "_dom_classes": [],
      "_model_module": "@jupyter-widgets/controls",
      "_model_module_version": "1.5.0",
      "_model_name": "HBoxModel",
      "_view_count": null,
      "_view_module": "@jupyter-widgets/controls",
      "_view_module_version": "1.5.0",
      "_view_name": "HBoxView",
      "box_style": "",
      "children": [
       "IPY_MODEL_f8a14816c92f4916b68631dce031b6f1",
       "IPY_MODEL_7307acaaa6814c538855cfd10e4de9bb"
      ],
      "layout": "IPY_MODEL_081ce537758b4fb6afb641fcd2f768bb"
     }
    },
    "71cba0af34f145ed8b757da95ddc6902": {
     "model_module": "@jupyter-widgets/base",
     "model_name": "LayoutModel",
     "state": {
      "_model_module": "@jupyter-widgets/base",
      "_model_module_version": "1.2.0",
      "_model_name": "LayoutModel",
      "_view_count": null,
      "_view_module": "@jupyter-widgets/base",
      "_view_module_version": "1.2.0",
      "_view_name": "LayoutView",
      "align_content": null,
      "align_items": null,
      "align_self": null,
      "border": null,
      "bottom": null,
      "display": null,
      "flex": null,
      "flex_flow": null,
      "grid_area": null,
      "grid_auto_columns": null,
      "grid_auto_flow": null,
      "grid_auto_rows": null,
      "grid_column": null,
      "grid_gap": null,
      "grid_row": null,
      "grid_template_areas": null,
      "grid_template_columns": null,
      "grid_template_rows": null,
      "height": null,
      "justify_content": null,
      "justify_items": null,
      "left": null,
      "margin": null,
      "max_height": null,
      "max_width": null,
      "min_height": null,
      "min_width": null,
      "object_fit": null,
      "object_position": null,
      "order": null,
      "overflow": null,
      "overflow_x": null,
      "overflow_y": null,
      "padding": null,
      "right": null,
      "top": null,
      "visibility": null,
      "width": null
     }
    },
    "7307acaaa6814c538855cfd10e4de9bb": {
     "model_module": "@jupyter-widgets/controls",
     "model_name": "HTMLModel",
     "state": {
      "_dom_classes": [],
      "_model_module": "@jupyter-widgets/controls",
      "_model_module_version": "1.5.0",
      "_model_name": "HTMLModel",
      "_view_count": null,
      "_view_module": "@jupyter-widgets/controls",
      "_view_module_version": "1.5.0",
      "_view_name": "HTMLView",
      "description": "",
      "description_tooltip": null,
      "layout": "IPY_MODEL_0ae00f1e77e341bfad914190dedb218e",
      "placeholder": "​",
      "style": "IPY_MODEL_d8868e74e086455d8f514c826690c730",
      "value": " 0/33 [05:04&lt;?, ?it/s]"
     }
    },
    "7601002d24a14ca6bbc7a22fc8b5abe9": {
     "model_module": "@jupyter-widgets/controls",
     "model_name": "HBoxModel",
     "state": {
      "_dom_classes": [],
      "_model_module": "@jupyter-widgets/controls",
      "_model_module_version": "1.5.0",
      "_model_name": "HBoxModel",
      "_view_count": null,
      "_view_module": "@jupyter-widgets/controls",
      "_view_module_version": "1.5.0",
      "_view_name": "HBoxView",
      "box_style": "",
      "children": [
       "IPY_MODEL_6a50ed1a199744e48796808787ac812a",
       "IPY_MODEL_29c5466e2284453181d86451fedf55ae"
      ],
      "layout": "IPY_MODEL_71cba0af34f145ed8b757da95ddc6902"
     }
    },
    "7d852e73f22f4a65a0109e35d9408ae6": {
     "model_module": "@jupyter-widgets/base",
     "model_name": "LayoutModel",
     "state": {
      "_model_module": "@jupyter-widgets/base",
      "_model_module_version": "1.2.0",
      "_model_name": "LayoutModel",
      "_view_count": null,
      "_view_module": "@jupyter-widgets/base",
      "_view_module_version": "1.2.0",
      "_view_name": "LayoutView",
      "align_content": null,
      "align_items": null,
      "align_self": null,
      "border": null,
      "bottom": null,
      "display": null,
      "flex": null,
      "flex_flow": null,
      "grid_area": null,
      "grid_auto_columns": null,
      "grid_auto_flow": null,
      "grid_auto_rows": null,
      "grid_column": null,
      "grid_gap": null,
      "grid_row": null,
      "grid_template_areas": null,
      "grid_template_columns": null,
      "grid_template_rows": null,
      "height": null,
      "justify_content": null,
      "justify_items": null,
      "left": null,
      "margin": null,
      "max_height": null,
      "max_width": null,
      "min_height": null,
      "min_width": null,
      "object_fit": null,
      "object_position": null,
      "order": null,
      "overflow": null,
      "overflow_x": null,
      "overflow_y": null,
      "padding": null,
      "right": null,
      "top": null,
      "visibility": null,
      "width": null
     }
    },
    "81f8e566afc64ec3aabcdb34614b65a2": {
     "model_module": "@jupyter-widgets/controls",
     "model_name": "FloatProgressModel",
     "state": {
      "_dom_classes": [],
      "_model_module": "@jupyter-widgets/controls",
      "_model_module_version": "1.5.0",
      "_model_name": "FloatProgressModel",
      "_view_count": null,
      "_view_module": "@jupyter-widgets/controls",
      "_view_module_version": "1.5.0",
      "_view_name": "ProgressView",
      "bar_style": "success",
      "description": "Accuracy: 93.730%: 100%",
      "description_tooltip": null,
      "layout": "IPY_MODEL_1270a7be010d44118d35ae9629d7721b",
      "max": 100,
      "min": 0,
      "orientation": "horizontal",
      "style": "IPY_MODEL_1798a9fa8aac4878a61bcdd1669c302b",
      "value": 100
     }
    },
    "8b5943fc8b16442eb83b9866ad264306": {
     "model_module": "@jupyter-widgets/controls",
     "model_name": "ProgressStyleModel",
     "state": {
      "_model_module": "@jupyter-widgets/controls",
      "_model_module_version": "1.5.0",
      "_model_name": "ProgressStyleModel",
      "_view_count": null,
      "_view_module": "@jupyter-widgets/base",
      "_view_module_version": "1.2.0",
      "_view_name": "StyleView",
      "bar_color": null,
      "description_width": "initial"
     }
    },
    "8dc1c4435a434288a30d3da3ff85a5ae": {
     "model_module": "@jupyter-widgets/controls",
     "model_name": "HTMLModel",
     "state": {
      "_dom_classes": [],
      "_model_module": "@jupyter-widgets/controls",
      "_model_module_version": "1.5.0",
      "_model_name": "HTMLModel",
      "_view_count": null,
      "_view_module": "@jupyter-widgets/controls",
      "_view_module_version": "1.5.0",
      "_view_name": "HTMLView",
      "description": "",
      "description_tooltip": null,
      "layout": "IPY_MODEL_aa8d74fa92b04d85925f39676fa340ba",
      "placeholder": "​",
      "style": "IPY_MODEL_cbbaf90aad0445a5bbb46b23613f4094",
      "value": " 100/100 [1:18:03&lt;00:00, 46.84s/it]"
     }
    },
    "92f09b978cd943c6a1221b6aed70e336": {
     "model_module": "@jupyter-widgets/controls",
     "model_name": "ProgressStyleModel",
     "state": {
      "_model_module": "@jupyter-widgets/controls",
      "_model_module_version": "1.5.0",
      "_model_name": "ProgressStyleModel",
      "_view_count": null,
      "_view_module": "@jupyter-widgets/base",
      "_view_module_version": "1.2.0",
      "_view_name": "StyleView",
      "bar_color": null,
      "description_width": "initial"
     }
    },
    "9d3895b47ed14261b40ea004ba13c7bd": {
     "model_module": "@jupyter-widgets/base",
     "model_name": "LayoutModel",
     "state": {
      "_model_module": "@jupyter-widgets/base",
      "_model_module_version": "1.2.0",
      "_model_name": "LayoutModel",
      "_view_count": null,
      "_view_module": "@jupyter-widgets/base",
      "_view_module_version": "1.2.0",
      "_view_name": "LayoutView",
      "align_content": null,
      "align_items": null,
      "align_self": null,
      "border": null,
      "bottom": null,
      "display": null,
      "flex": null,
      "flex_flow": null,
      "grid_area": null,
      "grid_auto_columns": null,
      "grid_auto_flow": null,
      "grid_auto_rows": null,
      "grid_column": null,
      "grid_gap": null,
      "grid_row": null,
      "grid_template_areas": null,
      "grid_template_columns": null,
      "grid_template_rows": null,
      "height": null,
      "justify_content": null,
      "justify_items": null,
      "left": null,
      "margin": null,
      "max_height": null,
      "max_width": null,
      "min_height": null,
      "min_width": null,
      "object_fit": null,
      "object_position": null,
      "order": null,
      "overflow": null,
      "overflow_x": null,
      "overflow_y": null,
      "padding": null,
      "right": null,
      "top": null,
      "visibility": null,
      "width": null
     }
    },
    "a3eff1cc441f443ebc33cfef981f57a7": {
     "model_module": "@jupyter-widgets/controls",
     "model_name": "HTMLModel",
     "state": {
      "_dom_classes": [],
      "_model_module": "@jupyter-widgets/controls",
      "_model_module_version": "1.5.0",
      "_model_name": "HTMLModel",
      "_view_count": null,
      "_view_module": "@jupyter-widgets/controls",
      "_view_module_version": "1.5.0",
      "_view_name": "HTMLView",
      "description": "",
      "description_tooltip": null,
      "layout": "IPY_MODEL_d564220332e94716ab03dd4fbdace767",
      "placeholder": "​",
      "style": "IPY_MODEL_5e1e87627f704c6c9ae83dd8c88654e5",
      "value": " 3/3 [1:21:02&lt;00:00, 1620.87s/it]"
     }
    },
    "aa34371a82ec4afda7ca54298ecf34e8": {
     "model_module": "@jupyter-widgets/controls",
     "model_name": "FloatProgressModel",
     "state": {
      "_dom_classes": [],
      "_model_module": "@jupyter-widgets/controls",
      "_model_module_version": "1.5.0",
      "_model_name": "FloatProgressModel",
      "_view_count": null,
      "_view_module": "@jupyter-widgets/controls",
      "_view_module_version": "1.5.0",
      "_view_name": "ProgressView",
      "bar_style": "info",
      "description": "",
      "description_tooltip": null,
      "layout": "IPY_MODEL_ee3b08a1b07041568316b7c823884e05",
      "max": 1,
      "min": 0,
      "orientation": "horizontal",
      "style": "IPY_MODEL_92f09b978cd943c6a1221b6aed70e336",
      "value": 1
     }
    },
    "aa8d74fa92b04d85925f39676fa340ba": {
     "model_module": "@jupyter-widgets/base",
     "model_name": "LayoutModel",
     "state": {
      "_model_module": "@jupyter-widgets/base",
      "_model_module_version": "1.2.0",
      "_model_name": "LayoutModel",
      "_view_count": null,
      "_view_module": "@jupyter-widgets/base",
      "_view_module_version": "1.2.0",
      "_view_name": "LayoutView",
      "align_content": null,
      "align_items": null,
      "align_self": null,
      "border": null,
      "bottom": null,
      "display": null,
      "flex": null,
      "flex_flow": null,
      "grid_area": null,
      "grid_auto_columns": null,
      "grid_auto_flow": null,
      "grid_auto_rows": null,
      "grid_column": null,
      "grid_gap": null,
      "grid_row": null,
      "grid_template_areas": null,
      "grid_template_columns": null,
      "grid_template_rows": null,
      "height": null,
      "justify_content": null,
      "justify_items": null,
      "left": null,
      "margin": null,
      "max_height": null,
      "max_width": null,
      "min_height": null,
      "min_width": null,
      "object_fit": null,
      "object_position": null,
      "order": null,
      "overflow": null,
      "overflow_x": null,
      "overflow_y": null,
      "padding": null,
      "right": null,
      "top": null,
      "visibility": null,
      "width": null
     }
    },
    "b1a04069864c42279e2d10e5117a8e55": {
     "model_module": "@jupyter-widgets/base",
     "model_name": "LayoutModel",
     "state": {
      "_model_module": "@jupyter-widgets/base",
      "_model_module_version": "1.2.0",
      "_model_name": "LayoutModel",
      "_view_count": null,
      "_view_module": "@jupyter-widgets/base",
      "_view_module_version": "1.2.0",
      "_view_name": "LayoutView",
      "align_content": null,
      "align_items": null,
      "align_self": null,
      "border": null,
      "bottom": null,
      "display": null,
      "flex": null,
      "flex_flow": null,
      "grid_area": null,
      "grid_auto_columns": null,
      "grid_auto_flow": null,
      "grid_auto_rows": null,
      "grid_column": null,
      "grid_gap": null,
      "grid_row": null,
      "grid_template_areas": null,
      "grid_template_columns": null,
      "grid_template_rows": null,
      "height": null,
      "justify_content": null,
      "justify_items": null,
      "left": null,
      "margin": null,
      "max_height": null,
      "max_width": null,
      "min_height": null,
      "min_width": null,
      "object_fit": null,
      "object_position": null,
      "order": null,
      "overflow": null,
      "overflow_x": null,
      "overflow_y": null,
      "padding": null,
      "right": null,
      "top": null,
      "visibility": null,
      "width": null
     }
    },
    "b2cb4b7570274152953976320b2b6e61": {
     "model_module": "@jupyter-widgets/base",
     "model_name": "LayoutModel",
     "state": {
      "_model_module": "@jupyter-widgets/base",
      "_model_module_version": "1.2.0",
      "_model_name": "LayoutModel",
      "_view_count": null,
      "_view_module": "@jupyter-widgets/base",
      "_view_module_version": "1.2.0",
      "_view_name": "LayoutView",
      "align_content": null,
      "align_items": null,
      "align_self": null,
      "border": null,
      "bottom": null,
      "display": null,
      "flex": null,
      "flex_flow": null,
      "grid_area": null,
      "grid_auto_columns": null,
      "grid_auto_flow": null,
      "grid_auto_rows": null,
      "grid_column": null,
      "grid_gap": null,
      "grid_row": null,
      "grid_template_areas": null,
      "grid_template_columns": null,
      "grid_template_rows": null,
      "height": null,
      "justify_content": null,
      "justify_items": null,
      "left": null,
      "margin": null,
      "max_height": null,
      "max_width": null,
      "min_height": null,
      "min_width": null,
      "object_fit": null,
      "object_position": null,
      "order": null,
      "overflow": null,
      "overflow_x": null,
      "overflow_y": null,
      "padding": null,
      "right": null,
      "top": null,
      "visibility": null,
      "width": null
     }
    },
    "b37ec40afd534671aa80c159de6d1aa9": {
     "model_module": "@jupyter-widgets/controls",
     "model_name": "FloatProgressModel",
     "state": {
      "_dom_classes": [],
      "_model_module": "@jupyter-widgets/controls",
      "_model_module_version": "1.5.0",
      "_model_name": "FloatProgressModel",
      "_view_count": null,
      "_view_module": "@jupyter-widgets/controls",
      "_view_module_version": "1.5.0",
      "_view_name": "ProgressView",
      "bar_style": "success",
      "description": "Accuracy: 95.040%: 100%",
      "description_tooltip": null,
      "layout": "IPY_MODEL_e32cc999b2654197a5e7e1771f48d8a9",
      "max": 100,
      "min": 0,
      "orientation": "horizontal",
      "style": "IPY_MODEL_4866ed394f6d40b79e2f276d78dd388b",
      "value": 100
     }
    },
    "ba8e90abfebe418ebce6b576bc1ed5c6": {
     "model_module": "@jupyter-widgets/base",
     "model_name": "LayoutModel",
     "state": {
      "_model_module": "@jupyter-widgets/base",
      "_model_module_version": "1.2.0",
      "_model_name": "LayoutModel",
      "_view_count": null,
      "_view_module": "@jupyter-widgets/base",
      "_view_module_version": "1.2.0",
      "_view_name": "LayoutView",
      "align_content": null,
      "align_items": null,
      "align_self": null,
      "border": null,
      "bottom": null,
      "display": null,
      "flex": null,
      "flex_flow": null,
      "grid_area": null,
      "grid_auto_columns": null,
      "grid_auto_flow": null,
      "grid_auto_rows": null,
      "grid_column": null,
      "grid_gap": null,
      "grid_row": null,
      "grid_template_areas": null,
      "grid_template_columns": null,
      "grid_template_rows": null,
      "height": null,
      "justify_content": null,
      "justify_items": null,
      "left": null,
      "margin": null,
      "max_height": null,
      "max_width": null,
      "min_height": null,
      "min_width": null,
      "object_fit": null,
      "object_position": null,
      "order": null,
      "overflow": null,
      "overflow_x": null,
      "overflow_y": null,
      "padding": null,
      "right": null,
      "top": null,
      "visibility": null,
      "width": null
     }
    },
    "c219f4353b9444b3a6fff428f9cfc053": {
     "model_module": "@jupyter-widgets/controls",
     "model_name": "HTMLModel",
     "state": {
      "_dom_classes": [],
      "_model_module": "@jupyter-widgets/controls",
      "_model_module_version": "1.5.0",
      "_model_name": "HTMLModel",
      "_view_count": null,
      "_view_module": "@jupyter-widgets/controls",
      "_view_module_version": "1.5.0",
      "_view_name": "HTMLView",
      "description": "",
      "description_tooltip": null,
      "layout": "IPY_MODEL_7d852e73f22f4a65a0109e35d9408ae6",
      "placeholder": "​",
      "style": "IPY_MODEL_ea6736d0ee4f4aeda8f58c1d1e8689e6",
      "value": " 1/40 [00:00&lt;00:19,  1.97it/s]"
     }
    },
    "ca6c4d6dff924e51b3965012f1c22dce": {
     "model_module": "@jupyter-widgets/controls",
     "model_name": "ProgressStyleModel",
     "state": {
      "_model_module": "@jupyter-widgets/controls",
      "_model_module_version": "1.5.0",
      "_model_name": "ProgressStyleModel",
      "_view_count": null,
      "_view_module": "@jupyter-widgets/base",
      "_view_module_version": "1.2.0",
      "_view_name": "StyleView",
      "bar_color": null,
      "description_width": "initial"
     }
    },
    "cbbaf90aad0445a5bbb46b23613f4094": {
     "model_module": "@jupyter-widgets/controls",
     "model_name": "DescriptionStyleModel",
     "state": {
      "_model_module": "@jupyter-widgets/controls",
      "_model_module_version": "1.5.0",
      "_model_name": "DescriptionStyleModel",
      "_view_count": null,
      "_view_module": "@jupyter-widgets/base",
      "_view_module_version": "1.2.0",
      "_view_name": "StyleView",
      "description_width": ""
     }
    },
    "cfee127ccee9400ea1efdc1c79734ce1": {
     "model_module": "@jupyter-widgets/controls",
     "model_name": "DescriptionStyleModel",
     "state": {
      "_model_module": "@jupyter-widgets/controls",
      "_model_module_version": "1.5.0",
      "_model_name": "DescriptionStyleModel",
      "_view_count": null,
      "_view_module": "@jupyter-widgets/base",
      "_view_module_version": "1.2.0",
      "_view_name": "StyleView",
      "description_width": ""
     }
    },
    "d564220332e94716ab03dd4fbdace767": {
     "model_module": "@jupyter-widgets/base",
     "model_name": "LayoutModel",
     "state": {
      "_model_module": "@jupyter-widgets/base",
      "_model_module_version": "1.2.0",
      "_model_name": "LayoutModel",
      "_view_count": null,
      "_view_module": "@jupyter-widgets/base",
      "_view_module_version": "1.2.0",
      "_view_name": "LayoutView",
      "align_content": null,
      "align_items": null,
      "align_self": null,
      "border": null,
      "bottom": null,
      "display": null,
      "flex": null,
      "flex_flow": null,
      "grid_area": null,
      "grid_auto_columns": null,
      "grid_auto_flow": null,
      "grid_auto_rows": null,
      "grid_column": null,
      "grid_gap": null,
      "grid_row": null,
      "grid_template_areas": null,
      "grid_template_columns": null,
      "grid_template_rows": null,
      "height": null,
      "justify_content": null,
      "justify_items": null,
      "left": null,
      "margin": null,
      "max_height": null,
      "max_width": null,
      "min_height": null,
      "min_width": null,
      "object_fit": null,
      "object_position": null,
      "order": null,
      "overflow": null,
      "overflow_x": null,
      "overflow_y": null,
      "padding": null,
      "right": null,
      "top": null,
      "visibility": null,
      "width": null
     }
    },
    "d8868e74e086455d8f514c826690c730": {
     "model_module": "@jupyter-widgets/controls",
     "model_name": "DescriptionStyleModel",
     "state": {
      "_model_module": "@jupyter-widgets/controls",
      "_model_module_version": "1.5.0",
      "_model_name": "DescriptionStyleModel",
      "_view_count": null,
      "_view_module": "@jupyter-widgets/base",
      "_view_module_version": "1.2.0",
      "_view_name": "StyleView",
      "description_width": ""
     }
    },
    "da8b3f463c04483a9846710851963786": {
     "model_module": "@jupyter-widgets/controls",
     "model_name": "HBoxModel",
     "state": {
      "_dom_classes": [],
      "_model_module": "@jupyter-widgets/controls",
      "_model_module_version": "1.5.0",
      "_model_name": "HBoxModel",
      "_view_count": null,
      "_view_module": "@jupyter-widgets/controls",
      "_view_module_version": "1.5.0",
      "_view_name": "HBoxView",
      "box_style": "",
      "children": [
       "IPY_MODEL_3f39acd798444cbfa1997d16f9a811d9",
       "IPY_MODEL_8dc1c4435a434288a30d3da3ff85a5ae"
      ],
      "layout": "IPY_MODEL_e8f97438ba624967b709ad6b172d12e5"
     }
    },
    "dccaecb14e204485adb001c01bbeb34e": {
     "model_module": "@jupyter-widgets/base",
     "model_name": "LayoutModel",
     "state": {
      "_model_module": "@jupyter-widgets/base",
      "_model_module_version": "1.2.0",
      "_model_name": "LayoutModel",
      "_view_count": null,
      "_view_module": "@jupyter-widgets/base",
      "_view_module_version": "1.2.0",
      "_view_name": "LayoutView",
      "align_content": null,
      "align_items": null,
      "align_self": null,
      "border": null,
      "bottom": null,
      "display": null,
      "flex": null,
      "flex_flow": null,
      "grid_area": null,
      "grid_auto_columns": null,
      "grid_auto_flow": null,
      "grid_auto_rows": null,
      "grid_column": null,
      "grid_gap": null,
      "grid_row": null,
      "grid_template_areas": null,
      "grid_template_columns": null,
      "grid_template_rows": null,
      "height": null,
      "justify_content": null,
      "justify_items": null,
      "left": null,
      "margin": null,
      "max_height": null,
      "max_width": null,
      "min_height": null,
      "min_width": null,
      "object_fit": null,
      "object_position": null,
      "order": null,
      "overflow": null,
      "overflow_x": null,
      "overflow_y": null,
      "padding": null,
      "right": null,
      "top": null,
      "visibility": null,
      "width": null
     }
    },
    "df1d5e83bd454a53b57a1601b43e9610": {
     "model_module": "@jupyter-widgets/controls",
     "model_name": "HBoxModel",
     "state": {
      "_dom_classes": [],
      "_model_module": "@jupyter-widgets/controls",
      "_model_module_version": "1.5.0",
      "_model_name": "HBoxModel",
      "_view_count": null,
      "_view_module": "@jupyter-widgets/controls",
      "_view_module_version": "1.5.0",
      "_view_name": "HBoxView",
      "box_style": "",
      "children": [
       "IPY_MODEL_aa34371a82ec4afda7ca54298ecf34e8",
       "IPY_MODEL_3b8efb06109a427d821c9a8d289b495b"
      ],
      "layout": "IPY_MODEL_9d3895b47ed14261b40ea004ba13c7bd"
     }
    },
    "e32cc999b2654197a5e7e1771f48d8a9": {
     "model_module": "@jupyter-widgets/base",
     "model_name": "LayoutModel",
     "state": {
      "_model_module": "@jupyter-widgets/base",
      "_model_module_version": "1.2.0",
      "_model_name": "LayoutModel",
      "_view_count": null,
      "_view_module": "@jupyter-widgets/base",
      "_view_module_version": "1.2.0",
      "_view_name": "LayoutView",
      "align_content": null,
      "align_items": null,
      "align_self": null,
      "border": null,
      "bottom": null,
      "display": null,
      "flex": null,
      "flex_flow": null,
      "grid_area": null,
      "grid_auto_columns": null,
      "grid_auto_flow": null,
      "grid_auto_rows": null,
      "grid_column": null,
      "grid_gap": null,
      "grid_row": null,
      "grid_template_areas": null,
      "grid_template_columns": null,
      "grid_template_rows": null,
      "height": null,
      "justify_content": null,
      "justify_items": null,
      "left": null,
      "margin": null,
      "max_height": null,
      "max_width": null,
      "min_height": null,
      "min_width": null,
      "object_fit": null,
      "object_position": null,
      "order": null,
      "overflow": null,
      "overflow_x": null,
      "overflow_y": null,
      "padding": null,
      "right": null,
      "top": null,
      "visibility": null,
      "width": null
     }
    },
    "e88b609ab2624c069fd207abfb60b35c": {
     "model_module": "@jupyter-widgets/base",
     "model_name": "LayoutModel",
     "state": {
      "_model_module": "@jupyter-widgets/base",
      "_model_module_version": "1.2.0",
      "_model_name": "LayoutModel",
      "_view_count": null,
      "_view_module": "@jupyter-widgets/base",
      "_view_module_version": "1.2.0",
      "_view_name": "LayoutView",
      "align_content": null,
      "align_items": null,
      "align_self": null,
      "border": null,
      "bottom": null,
      "display": null,
      "flex": null,
      "flex_flow": null,
      "grid_area": null,
      "grid_auto_columns": null,
      "grid_auto_flow": null,
      "grid_auto_rows": null,
      "grid_column": null,
      "grid_gap": null,
      "grid_row": null,
      "grid_template_areas": null,
      "grid_template_columns": null,
      "grid_template_rows": null,
      "height": null,
      "justify_content": null,
      "justify_items": null,
      "left": null,
      "margin": null,
      "max_height": null,
      "max_width": null,
      "min_height": null,
      "min_width": null,
      "object_fit": null,
      "object_position": null,
      "order": null,
      "overflow": null,
      "overflow_x": null,
      "overflow_y": null,
      "padding": null,
      "right": null,
      "top": null,
      "visibility": null,
      "width": null
     }
    },
    "e8f97438ba624967b709ad6b172d12e5": {
     "model_module": "@jupyter-widgets/base",
     "model_name": "LayoutModel",
     "state": {
      "_model_module": "@jupyter-widgets/base",
      "_model_module_version": "1.2.0",
      "_model_name": "LayoutModel",
      "_view_count": null,
      "_view_module": "@jupyter-widgets/base",
      "_view_module_version": "1.2.0",
      "_view_name": "LayoutView",
      "align_content": null,
      "align_items": null,
      "align_self": null,
      "border": null,
      "bottom": null,
      "display": null,
      "flex": null,
      "flex_flow": null,
      "grid_area": null,
      "grid_auto_columns": null,
      "grid_auto_flow": null,
      "grid_auto_rows": null,
      "grid_column": null,
      "grid_gap": null,
      "grid_row": null,
      "grid_template_areas": null,
      "grid_template_columns": null,
      "grid_template_rows": null,
      "height": null,
      "justify_content": null,
      "justify_items": null,
      "left": null,
      "margin": null,
      "max_height": null,
      "max_width": null,
      "min_height": null,
      "min_width": null,
      "object_fit": null,
      "object_position": null,
      "order": null,
      "overflow": null,
      "overflow_x": null,
      "overflow_y": null,
      "padding": null,
      "right": null,
      "top": null,
      "visibility": null,
      "width": null
     }
    },
    "ea6736d0ee4f4aeda8f58c1d1e8689e6": {
     "model_module": "@jupyter-widgets/controls",
     "model_name": "DescriptionStyleModel",
     "state": {
      "_model_module": "@jupyter-widgets/controls",
      "_model_module_version": "1.5.0",
      "_model_name": "DescriptionStyleModel",
      "_view_count": null,
      "_view_module": "@jupyter-widgets/base",
      "_view_module_version": "1.2.0",
      "_view_name": "StyleView",
      "description_width": ""
     }
    },
    "ea6e0ba77212430f93d103b2222449e0": {
     "model_module": "@jupyter-widgets/controls",
     "model_name": "HBoxModel",
     "state": {
      "_dom_classes": [],
      "_model_module": "@jupyter-widgets/controls",
      "_model_module_version": "1.5.0",
      "_model_name": "HBoxModel",
      "_view_count": null,
      "_view_module": "@jupyter-widgets/controls",
      "_view_module_version": "1.5.0",
      "_view_name": "HBoxView",
      "box_style": "",
      "children": [
       "IPY_MODEL_fc9275a1f18a4b25ba487b13fc724698",
       "IPY_MODEL_a3eff1cc441f443ebc33cfef981f57a7"
      ],
      "layout": "IPY_MODEL_1ac94700ad6342fea1695465ffae6226"
     }
    },
    "ee3b08a1b07041568316b7c823884e05": {
     "model_module": "@jupyter-widgets/base",
     "model_name": "LayoutModel",
     "state": {
      "_model_module": "@jupyter-widgets/base",
      "_model_module_version": "1.2.0",
      "_model_name": "LayoutModel",
      "_view_count": null,
      "_view_module": "@jupyter-widgets/base",
      "_view_module_version": "1.2.0",
      "_view_name": "LayoutView",
      "align_content": null,
      "align_items": null,
      "align_self": null,
      "border": null,
      "bottom": null,
      "display": null,
      "flex": null,
      "flex_flow": null,
      "grid_area": null,
      "grid_auto_columns": null,
      "grid_auto_flow": null,
      "grid_auto_rows": null,
      "grid_column": null,
      "grid_gap": null,
      "grid_row": null,
      "grid_template_areas": null,
      "grid_template_columns": null,
      "grid_template_rows": null,
      "height": null,
      "justify_content": null,
      "justify_items": null,
      "left": null,
      "margin": null,
      "max_height": null,
      "max_width": null,
      "min_height": null,
      "min_width": null,
      "object_fit": null,
      "object_position": null,
      "order": null,
      "overflow": null,
      "overflow_x": null,
      "overflow_y": null,
      "padding": null,
      "right": null,
      "top": null,
      "visibility": null,
      "width": null
     }
    },
    "f1c20fd67b4b4065925c56443010c6ac": {
     "model_module": "@jupyter-widgets/controls",
     "model_name": "HTMLModel",
     "state": {
      "_dom_classes": [],
      "_model_module": "@jupyter-widgets/controls",
      "_model_module_version": "1.5.0",
      "_model_name": "HTMLModel",
      "_view_count": null,
      "_view_module": "@jupyter-widgets/controls",
      "_view_module_version": "1.5.0",
      "_view_name": "HTMLView",
      "description": "",
      "description_tooltip": null,
      "layout": "IPY_MODEL_dccaecb14e204485adb001c01bbeb34e",
      "placeholder": "​",
      "style": "IPY_MODEL_6d2c1c7fedb349b1a52e7b7eff52f04d",
      "value": " 100/100 [00:14&lt;00:00,  6.97it/s]"
     }
    },
    "f8365e7f4af04a7e96558db000e3f805": {
     "model_module": "@jupyter-widgets/controls",
     "model_name": "HTMLModel",
     "state": {
      "_dom_classes": [],
      "_model_module": "@jupyter-widgets/controls",
      "_model_module_version": "1.5.0",
      "_model_name": "HTMLModel",
      "_view_count": null,
      "_view_module": "@jupyter-widgets/controls",
      "_view_module_version": "1.5.0",
      "_view_name": "HTMLView",
      "description": "",
      "description_tooltip": null,
      "layout": "IPY_MODEL_b2cb4b7570274152953976320b2b6e61",
      "placeholder": "​",
      "style": "IPY_MODEL_cfee127ccee9400ea1efdc1c79734ce1",
      "value": " 100/100 [1:14:43&lt;00:00, 44.83s/it]"
     }
    },
    "f8a14816c92f4916b68631dce031b6f1": {
     "model_module": "@jupyter-widgets/controls",
     "model_name": "FloatProgressModel",
     "state": {
      "_dom_classes": [],
      "_model_module": "@jupyter-widgets/controls",
      "_model_module_version": "1.5.0",
      "_model_name": "FloatProgressModel",
      "_view_count": null,
      "_view_module": "@jupyter-widgets/controls",
      "_view_module_version": "1.5.0",
      "_view_name": "ProgressView",
      "bar_style": "danger",
      "description": "  0%",
      "description_tooltip": null,
      "layout": "IPY_MODEL_2bf04e86582e4897b461db0aa3c2bdf0",
      "max": 33,
      "min": 0,
      "orientation": "horizontal",
      "style": "IPY_MODEL_8b5943fc8b16442eb83b9866ad264306",
      "value": 0
     }
    },
    "f988422736c849beabfc268590bba128": {
     "model_module": "@jupyter-widgets/controls",
     "model_name": "DescriptionStyleModel",
     "state": {
      "_model_module": "@jupyter-widgets/controls",
      "_model_module_version": "1.5.0",
      "_model_name": "DescriptionStyleModel",
      "_view_count": null,
      "_view_module": "@jupyter-widgets/base",
      "_view_module_version": "1.2.0",
      "_view_name": "StyleView",
      "description_width": ""
     }
    },
    "f9ffd158fb7945ca99230cb346dae0f3": {
     "model_module": "@jupyter-widgets/base",
     "model_name": "LayoutModel",
     "state": {
      "_model_module": "@jupyter-widgets/base",
      "_model_module_version": "1.2.0",
      "_model_name": "LayoutModel",
      "_view_count": null,
      "_view_module": "@jupyter-widgets/base",
      "_view_module_version": "1.2.0",
      "_view_name": "LayoutView",
      "align_content": null,
      "align_items": null,
      "align_self": null,
      "border": null,
      "bottom": null,
      "display": null,
      "flex": null,
      "flex_flow": null,
      "grid_area": null,
      "grid_auto_columns": null,
      "grid_auto_flow": null,
      "grid_auto_rows": null,
      "grid_column": null,
      "grid_gap": null,
      "grid_row": null,
      "grid_template_areas": null,
      "grid_template_columns": null,
      "grid_template_rows": null,
      "height": null,
      "justify_content": null,
      "justify_items": null,
      "left": null,
      "margin": null,
      "max_height": null,
      "max_width": null,
      "min_height": null,
      "min_width": null,
      "object_fit": null,
      "object_position": null,
      "order": null,
      "overflow": null,
      "overflow_x": null,
      "overflow_y": null,
      "padding": null,
      "right": null,
      "top": null,
      "visibility": null,
      "width": null
     }
    },
    "fc9275a1f18a4b25ba487b13fc724698": {
     "model_module": "@jupyter-widgets/controls",
     "model_name": "FloatProgressModel",
     "state": {
      "_dom_classes": [],
      "_model_module": "@jupyter-widgets/controls",
      "_model_module_version": "1.5.0",
      "_model_name": "FloatProgressModel",
      "_view_count": null,
      "_view_module": "@jupyter-widgets/controls",
      "_view_module_version": "1.5.0",
      "_view_name": "ProgressView",
      "bar_style": "success",
      "description": "100%",
      "description_tooltip": null,
      "layout": "IPY_MODEL_06ef1a2a44e54c93964ee1ef0dcd9c90",
      "max": 3,
      "min": 0,
      "orientation": "horizontal",
      "style": "IPY_MODEL_213e0896b33a475e94a48537a08042f2",
      "value": 3
     }
    }
   }
  }
 },
 "nbformat": 4,
 "nbformat_minor": 1
}
